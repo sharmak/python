{
 "metadata": {
  "name": "",
  "signature": "sha256:3d9f475e69fd8b374d824320045ca50c50db788193264af710edbe2074526e2e"
 },
 "nbformat": 3,
 "nbformat_minor": 0,
 "worksheets": [
  {
   "cells": [
    {
     "cell_type": "code",
     "collapsed": false,
     "input": [
      "from Quandl import Quandl\n",
      "ng1_prices_df = Quandl.get(\"OFDP/FUTURE_NG1\")"
     ],
     "language": "python",
     "metadata": {},
     "outputs": [],
     "prompt_number": 207
    },
    {
     "cell_type": "code",
     "collapsed": false,
     "input": [
      "ng1_prices_df.tail()\n",
      "years = [2010, 2011,2012,2013,2014]\n",
      "sd = '%s-03-01' %str(years[0])\n",
      "ed = '%s-04-01' %str(years[0])\n",
      "print sd\n",
      "print ed\n",
      "ng1_prices_df_filter = ng1_prices_df.ix[sd:ed]\n",
      "for year in years[1:]:\n",
      "    print year\n",
      "    sd = '%s-03-01' %str(year)\n",
      "    ed = '%s-04-01' %str(year)\n",
      "    ng1_prices_df_filter = ng1_prices_df_filter.append(ng1_prices_df.ix[sd:ed])\n",
      "#ng1_prices_df_filter\n",
      "#ng1_prices_df.filter(date >= Timest and date < '2014-03-01')"
     ],
     "language": "python",
     "metadata": {},
     "outputs": [
      {
       "output_type": "stream",
       "stream": "stdout",
       "text": [
        "2010-03-01\n",
        "2010-04-01\n",
        "2011\n",
        "2012\n",
        "2013\n",
        "2014\n"
       ]
      }
     ],
     "prompt_number": 245
    },
    {
     "cell_type": "code",
     "collapsed": false,
     "input": [
      "#ng1_prices_monthly_mean = ng1_prices_df.resample('M', how=\"mean\")\n",
      "ng1_prices = ng1_prices_df_filter.Settle\n",
      "#type(prices)\n",
      "#prices.head()\n",
      "#prices.index\n",
      "#prices.values"
     ],
     "language": "python",
     "metadata": {},
     "outputs": [],
     "prompt_number": 246
    },
    {
     "cell_type": "code",
     "collapsed": false,
     "input": [
      "from collections import OrderedDict\n",
      "\n",
      "import numpy as np\n",
      "\n",
      "from bokeh.plotting import *\n",
      "from bokeh.models import HoverTool\n",
      "from bokeh.sampledata.unemployment1948 import data\n"
     ],
     "language": "python",
     "metadata": {},
     "outputs": [],
     "prompt_number": 247
    },
    {
     "cell_type": "code",
     "collapsed": false,
     "input": [
      "# this is the colormap from the original plot\n",
      "colors = [\n",
      "    \"#75968f\", \"#a5bab7\", \"#c9d9d3\", \"#e2e2e2\", \"#dfccce\",\n",
      "    \"#ddb7b1\", \"#cc7878\", \"#933b41\", \"#550b1d\"\n",
      "]"
     ],
     "language": "python",
     "metadata": {},
     "outputs": [],
     "prompt_number": 248
    },
    {
     "cell_type": "code",
     "collapsed": false,
     "input": [
      "months = list()\n",
      "years = list()\n",
      "prices = list()\n",
      "color = list()\n",
      "for pr, date in zip(ng1_prices, ng1_prices.index):\n",
      "    #if date.year < 2009:\n",
      "    #    continue\n",
      "    prices.append(pr)\n",
      "    #if date.month != 2:\n",
      "    #    continue\n",
      "    months.append(date.strftime(\"%m%d\"))\n",
      "    years.append(str(date.year))\n",
      "    color.append(colors[min(int(pr)-2, 8)])\n",
      "month = list(set(months))\n",
      "year = list(set(years))\n",
      "year = map(str, year)\n"
     ],
     "language": "python",
     "metadata": {},
     "outputs": [],
     "prompt_number": 249
    },
    {
     "cell_type": "code",
     "collapsed": false,
     "input": [
      "#print(len(years))\n",
      "#print(len(months))\n",
      "source = ColumnDataSource(\n",
      "    data=dict(month=months, year=years, \n",
      "              color=color, \n",
      "              prices=prices)\n",
      ")\n",
      "\n",
      "output_file('test.html')\n",
      "#print sorted(list(reversed(month)))"
     ],
     "language": "python",
     "metadata": {},
     "outputs": [
      {
       "output_type": "stream",
       "stream": "stdout",
       "text": [
        "Session output file 'test.html' already exists, will be overwritten.\n"
       ]
      }
     ],
     "prompt_number": 250
    },
    {
     "cell_type": "code",
     "collapsed": false,
     "input": [
      "TOOLS = \"resize,hover,save\"\n",
      "\n",
      "p = figure(title=\"US Natural Gas Prices\",\n",
      "    x_range=sorted(year), y_range=sorted(list(reversed(month)), reverse=True),\n",
      "    x_axis_location=\"above\", plot_width=900, plot_height=2000,\n",
      "    toolbar_location=\"left\", tools=TOOLS)\n",
      "\n",
      "p.rect(\"year\", \"month\", 1, 1, source=source,\n",
      "    color=\"color\", line_color=None)\n",
      "\n",
      "p.grid.grid_line_color = None\n",
      "p.axis.axis_line_color = None\n",
      "p.axis.major_tick_line_color = None\n",
      "p.axis.major_label_text_font_size = \"5pt\"\n",
      "p.axis.major_label_standoff = 0\n",
      "p.xaxis.major_label_orientation = np.pi/3\n",
      "\n",
      "hover = p.select(dict(type=HoverTool))\n",
      "hover.snap_to_data = False\n",
      "hover.tooltips = OrderedDict([\n",
      "    ('date', '@month @year'),\n",
      "    ('prices', '@prices'),\n",
      "])\n",
      "\n",
      "show(p)      # show the plot"
     ],
     "language": "python",
     "metadata": {},
     "outputs": [],
     "prompt_number": 251
    }
   ],
   "metadata": {}
  }
 ]
}