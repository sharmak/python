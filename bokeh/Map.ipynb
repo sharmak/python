{
 "metadata": {
  "name": "",
  "signature": "sha256:6f1811dab08dfb57999dbac40fa39da0d7fcb623f42a1d024249a896cff28c0b"
 },
 "nbformat": 3,
 "nbformat_minor": 0,
 "worksheets": [
  {
   "cells": [
    {
     "cell_type": "code",
     "collapsed": false,
     "input": [
      "import shapefile"
     ],
     "language": "python",
     "metadata": {},
     "outputs": [],
     "prompt_number": 1
    },
    {
     "cell_type": "code",
     "collapsed": false,
     "input": [
      "dat = shapefile.Reader(\"/home/kishor/Downloads/test/states_21basic/states.shp\")"
     ],
     "language": "python",
     "metadata": {},
     "outputs": [],
     "prompt_number": 2
    },
    {
     "cell_type": "code",
     "collapsed": false,
     "input": [
      "states = set([i[4] for i in dat.iterRecords()])\n",
      "print(states)"
     ],
     "language": "python",
     "metadata": {},
     "outputs": [
      {
       "output_type": "stream",
       "stream": "stdout",
       "text": [
        "set(['WA', 'DE', 'DC', 'WI', 'WV', 'HI', 'FL', 'WY', 'NH', 'NJ', 'NM', 'TX', 'LA', 'AK', 'NC', 'ND', 'NE', 'TN', 'NY', 'PA', 'RI', 'NV', 'VA', 'CO', 'CA', 'AL', 'AR', 'VT', 'IL', 'GA', 'IN', 'IA', 'OK', 'AZ', 'ID', 'CT', 'ME', 'MD', 'MA', 'OH', 'UT', 'MO', 'MN', 'MI', 'KS', 'MT', 'MS', 'SC', 'KY', 'OR', 'SD'])\n"
       ]
      }
     ],
     "prompt_number": 3
    },
    {
     "cell_type": "code",
     "collapsed": false,
     "input": [
      "def getParts ( shapeObj ):\n",
      "    points = []\n",
      "    num_parts = len( shapeObj.parts )\n",
      "    end = len( shapeObj.points ) - 1\n",
      "    segments = list( shapeObj.parts ) + [ end ]\n",
      "    for i in range( num_parts ):\n",
      "        points.append( shapeObj.points[ segments[i]:segments[i+1] ] )\n",
      "    return points\n",
      "\n",
      "def getDict ( state_name, shapefile ):\n",
      "    stateDict = {state_name: {} }\n",
      "    rec = []\n",
      "    shp = []\n",
      "    points = []\n",
      "\n",
      "    # Select only the records representing the\n",
      "    # \"state_name\" and discard all other\n",
      "    for i in shapefile.shapeRecords( ):\n",
      "\n",
      "        if i.record[4] == state_name:\n",
      "            rec.append(i.record)\n",
      "            shp.append(i.shape)\n",
      "    # For each selected shape object get\n",
      "    # list of points while considering the cases where there may be\n",
      "    # multiple parts  in a single record\n",
      "    for j in shp:\n",
      "        for i in getParts(j):\n",
      "            points.append(i)\n",
      "\n",
      "    # Prepare the dictionary\n",
      "    # Seperate the points into two separate lists of lists (easier for bokeh to consume)\n",
      "    #      - one representing latitudes\n",
      "    #      - second representing longitudes\n",
      "\n",
      "    lat = []\n",
      "    lng = []\n",
      "    for i in points:\n",
      "        lat.append( [j[0] for j in i] )\n",
      "        lng.append( [j[1] for j in i] )\n",
      "\n",
      "\n",
      "    stateDict[state_name]['lat_list'] = lat\n",
      "    stateDict[state_name]['lng_list'] = lng\n",
      "\n",
      "    return stateDict"
     ],
     "language": "python",
     "metadata": {},
     "outputs": [],
     "prompt_number": 4
    },
    {
     "cell_type": "code",
     "collapsed": false,
     "input": [
      "import random\n",
      "def rand_color():\n",
      "    r = lambda: random.randint(0,255)\n",
      "    return '#%02X%02X%02X' % (r(),r(),r())\n"
     ],
     "language": "python",
     "metadata": {},
     "outputs": [],
     "prompt_number": 5
    },
    {
     "cell_type": "code",
     "collapsed": false,
     "input": [
      "# Create the Plot\n",
      "\n",
      "from bokeh.plotting import *\n",
      "from bokeh.models import HoverTool\n",
      "from collections import *\n",
      "output_file(\"us_states.html\")\n",
      "\n",
      "hold()\n",
      "\n",
      "\n",
      "TOOLS=\"pan,wheel_zoom,box_zoom,reset,hover,save\"\n",
      "\n",
      "p = figure(title=\"Map of USA\", tools=TOOLS, plot_width=900, plot_height=800)\n",
      "\n",
      "for state_name in states:\n",
      "    data = getDict(state_name, dat)\n",
      "    p.patches(data[state_name]['lat_list'], data[state_name]['lng_list'], \\\n",
      "            fill_color=rand_color(), text=state_name, line_color=\"black\")\n",
      "\n",
      "\n",
      "hover = p.select(dict(type=HoverTool))\n",
      "hover.snap_to_data = False\n",
      "hover.tooltips = OrderedDict([\n",
      "    (\"index\", \"$index\"),\n",
      "    (\"(x,y)\", \"($x, $y)\"),\n",
      "    (\"fill color\", \"$color[hex, swatch]:fill_color\"),\n",
      "])\n",
      "show()\n"
     ],
     "language": "python",
     "metadata": {},
     "outputs": [
      {
       "output_type": "stream",
       "stream": "stdout",
       "text": [
        "Session output file 'us_states.html' already exists, will be overwritten.\n"
       ]
      }
     ],
     "prompt_number": 7
    },
    {
     "cell_type": "code",
     "collapsed": false,
     "input": [],
     "language": "python",
     "metadata": {},
     "outputs": [],
     "prompt_number": 6
    },
    {
     "cell_type": "code",
     "collapsed": false,
     "input": [],
     "language": "python",
     "metadata": {},
     "outputs": []
    }
   ],
   "metadata": {}
  }
 ]
}