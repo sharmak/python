{
 "metadata": {
  "name": "",
  "signature": "sha256:4ccc7d8fa9f40809f2cf128a7e5e16e93ed0141fef75999fb5f33b418f9b6e1a"
 },
 "nbformat": 3,
 "nbformat_minor": 0,
 "worksheets": [
  {
   "cells": [
    {
     "cell_type": "heading",
     "level": 3,
     "metadata": {},
     "source": [
      "Examples from https://sites.google.com/site/simplebayes/home/pycon-2012/part-1"
     ]
    },
    {
     "cell_type": "code",
     "collapsed": false,
     "input": [
      "import Pmf"
     ],
     "language": "python",
     "metadata": {},
     "outputs": [],
     "prompt_number": 2
    },
    {
     "cell_type": "code",
     "collapsed": false,
     "input": [
      "pmf = Pmf.MakePmfFromList([1,2,3,4,5,6])\n",
      "pmf1 = pmf\n",
      "pmf2 = pmf"
     ],
     "language": "python",
     "metadata": {},
     "outputs": [],
     "prompt_number": 19
    },
    {
     "cell_type": "code",
     "collapsed": false,
     "input": [
      "for val, prob in pmf.Items():\n",
      "    print val, ' -> ', prob"
     ],
     "language": "python",
     "metadata": {},
     "outputs": [
      {
       "output_type": "stream",
       "stream": "stdout",
       "text": [
        "1  ->  0.166666666667\n",
        "2  ->  0.166666666667\n",
        "3  ->  0.166666666667\n",
        "4  ->  0.166666666667\n",
        "5  ->  0.166666666667\n",
        "6  ->  0.166666666667\n"
       ]
      }
     ],
     "prompt_number": 12
    },
    {
     "cell_type": "code",
     "collapsed": false,
     "input": [
      "def ProbBigger(pmf1, pmf2):\n",
      "    total = 0.0\n",
      "    for v1, p1 in pmf1.Items(): \n",
      "        for v2, p2 in pmf2.Items():\n",
      "            if v1 > v2:\n",
      "                total = p1 * p2\n",
      "    return total"
     ],
     "language": "python",
     "metadata": {},
     "outputs": [],
     "prompt_number": 36
    },
    {
     "cell_type": "code",
     "collapsed": false,
     "input": [
      "ten = Pmf.MakePmfFromList(range(1,11))\n",
      "six = Pmf.MakePmfFromList(range(1,7))\n",
      "print 'Ten is bigger than six ' + str(ProbBigger(ten,six))"
     ],
     "language": "python",
     "metadata": {},
     "outputs": [
      {
       "output_type": "stream",
       "stream": "stdout",
       "text": [
        "Ten is bigger than six 0.0166666666667\n"
       ]
      }
     ],
     "prompt_number": 37
    },
    {
     "cell_type": "code",
     "collapsed": false,
     "input": [
      "range(1,11)"
     ],
     "language": "python",
     "metadata": {},
     "outputs": [
      {
       "metadata": {},
       "output_type": "pyout",
       "prompt_number": 38,
       "text": [
        "[1, 2, 3, 4, 5, 6, 7, 8, 9, 10]"
       ]
      }
     ],
     "prompt_number": 38
    },
    {
     "cell_type": "code",
     "collapsed": false,
     "input": [
      "import random\n",
      "random.random()\n",
      "1000*0.46*0.46*0.56"
     ],
     "language": "python",
     "metadata": {},
     "outputs": [
      {
       "metadata": {},
       "output_type": "pyout",
       "prompt_number": 54,
       "text": [
        "118.49600000000002"
       ]
      }
     ],
     "prompt_number": 54
    }
   ],
   "metadata": {}
  }
 ]
}