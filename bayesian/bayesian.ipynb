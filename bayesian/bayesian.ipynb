{
 "metadata": {
  "name": "",
  "signature": "sha256:0e25f9d85fbb56c5877e1e451220b887268988a96c90b9ddaf7d4829614d1602"
 },
 "nbformat": 3,
 "nbformat_minor": 0,
 "worksheets": [
  {
   "cells": [
    {
     "cell_type": "heading",
     "level": 3,
     "metadata": {},
     "source": [
      "Examples from https://sites.google.com/site/simplebayes/home/pycon-2012/part-1"
     ]
    },
    {
     "cell_type": "code",
     "collapsed": false,
     "input": [
      "import Pmf"
     ],
     "language": "python",
     "metadata": {},
     "outputs": [],
     "prompt_number": 2
    },
    {
     "cell_type": "code",
     "collapsed": false,
     "input": [
      "pmf = Pmf.MakePmfFromList([1,2,3,4,5,6])\n",
      "pmf1 = pmf\n",
      "pmf2 = pmf"
     ],
     "language": "python",
     "metadata": {},
     "outputs": [],
     "prompt_number": 19
    },
    {
     "cell_type": "code",
     "collapsed": false,
     "input": [
      "for val, prob in pmf.Items():\n",
      "    print val, ' -> ', prob"
     ],
     "language": "python",
     "metadata": {},
     "outputs": [
      {
       "output_type": "stream",
       "stream": "stdout",
       "text": [
        "1  ->  0.166666666667\n",
        "2  ->  0.166666666667\n",
        "3  ->  0.166666666667\n",
        "4  ->  0.166666666667\n",
        "5  ->  0.166666666667\n",
        "6  ->  0.166666666667\n"
       ]
      }
     ],
     "prompt_number": 12
    },
    {
     "cell_type": "code",
     "collapsed": false,
     "input": [
      "def ProbBigger(pmf1, pmf2):\n",
      "    total = 0.0\n",
      "    for v1, p1 in pmf1.Items(): \n",
      "        for v2, p2 in pmf2.Items():\n",
      "            if v1 > v2:\n",
      "                total = p1 * p2\n",
      "    return total"
     ],
     "language": "python",
     "metadata": {},
     "outputs": [],
     "prompt_number": 36
    },
    {
     "cell_type": "code",
     "collapsed": false,
     "input": [
      "ten = Pmf.MakePmfFromList(range(1,11))\n",
      "six = Pmf.MakePmfFromList(range(1,7))\n",
      "print 'Ten is bigger than six ' + str(ProbBigger(ten,six))"
     ],
     "language": "python",
     "metadata": {},
     "outputs": [
      {
       "output_type": "stream",
       "stream": "stdout",
       "text": [
        "Ten is bigger than six 0.0166666666667\n"
       ]
      }
     ],
     "prompt_number": 37
    },
    {
     "cell_type": "code",
     "collapsed": false,
     "input": [
      "range(1,11)"
     ],
     "language": "python",
     "metadata": {},
     "outputs": [
      {
       "metadata": {},
       "output_type": "pyout",
       "prompt_number": 38,
       "text": [
        "[1, 2, 3, 4, 5, 6, 7, 8, 9, 10]"
       ]
      }
     ],
     "prompt_number": 38
    },
    {
     "cell_type": "code",
     "collapsed": false,
     "input": [
      "import random\n",
      "random.random()\n",
      "1000*0.46*0.46*0.56"
     ],
     "language": "python",
     "metadata": {},
     "outputs": [
      {
       "metadata": {},
       "output_type": "pyout",
       "prompt_number": 54,
       "text": [
        "118.49600000000002"
       ]
      }
     ],
     "prompt_number": 54
    },
    {
     "cell_type": "code",
     "collapsed": false,
     "input": [
      "import Pmf as P\n",
      "p = P.Pmf()\n",
      "for i in range(1,7):\n",
      "        p.Set(i, 1/6.0)\n",
      "print p\n",
      "for i, j in p.Items():\n",
      "    print i, j"
     ],
     "language": "python",
     "metadata": {},
     "outputs": [
      {
       "output_type": "stream",
       "stream": "stdout",
       "text": [
        "<Pmf.Pmf object at 0x7f3e592a6b10>\n",
        "1 0.166666666667\n",
        "2 0.166666666667\n",
        "3 0.166666666667\n",
        "4 0.166666666667\n",
        "5 0.166666666667\n",
        "6 0.166666666667\n"
       ]
      }
     ],
     "prompt_number": 3
    },
    {
     "cell_type": "code",
     "collapsed": false,
     "input": [
      "p1 = P.Pmf()\n",
      "for i in range(1,7):\n",
      "    p1.Incr(i, 1)\n",
      "for i, j in p1.Items():\n",
      "    print i, j\n",
      "p1.Normalize()\n",
      "for i, j in p1.Items():\n",
      "    print i, j\n",
      "p1.Prob(1)"
     ],
     "language": "python",
     "metadata": {},
     "outputs": [
      {
       "output_type": "stream",
       "stream": "stdout",
       "text": [
        "1 1\n",
        "2 1\n",
        "3 1\n",
        "4 1\n",
        "5 1\n",
        "6 1\n",
        "1 0.166666666667\n",
        "2 0.166666666667\n",
        "3 0.166666666667\n",
        "4 0.166666666667\n",
        "5 0.166666666667\n",
        "6 0.166666666667\n"
       ]
      },
      {
       "metadata": {},
       "output_type": "pyout",
       "prompt_number": 4,
       "text": [
        "0.16666666666666666"
       ]
      }
     ],
     "prompt_number": 4
    },
    {
     "cell_type": "code",
     "collapsed": false,
     "input": [
      "from thinkbayes import Pmf\n",
      "# Cookie problem \n",
      "p = Pmf()\n",
      "p.Set('Bowl1', 0.5)\n",
      "p.Set('Bowl2', 0.5)\n",
      "#for i, j in p.Items():\n",
      "#    print i, j\n",
      "p.Mult('Bowl1', 0.75)\n",
      "p.Mult('Bowl2', 0.5)\n",
      "p.Normalize()\n",
      "print p.Prob('Bowl1')\n",
      "print p.Prob('Bowl2')\n",
      "class Cookie(Pmf):\n",
      "    def __init__(self, hypos):\n",
      "        Pmf.__init__(self)\n",
      "        for hypo in hypos:\n",
      "            self.Set(hypo, 1)\n",
      "    def Likelihood(self, data, hypo):\n",
      "        mixes = {'Bowl1' : {'vanilla':0.75, 'choc' : 0.25}, 'Bowl2' : {'vanilla' : 0.5, 'choc' : 0.5}}\n",
      "        return  mixes[hypo][data]\n",
      "    def Update(self, data):\n",
      "        for hypo in self.Values():\n",
      "            like = self.Likelihood(data, hypo)\n",
      "            self.Mult(hypo, like)\n",
      "        self.Normalize()\n",
      "c = Cookie(['Bowl1', 'Bowl2'])\n",
      "c.Update('vanilla')\n",
      "for hypo, prob in c.Items():\n",
      "    print hypo, prob\n"
     ],
     "language": "python",
     "metadata": {},
     "outputs": [
      {
       "output_type": "stream",
       "stream": "stdout",
       "text": [
        "0.6\n",
        "0.4\n",
        "Bowl1 0.6\n",
        "Bowl2 0.4\n"
       ]
      }
     ],
     "prompt_number": 36
    },
    {
     "cell_type": "code",
     "collapsed": false,
     "input": [
      "# Monty Hall Problem\n",
      "from thinkbayes import Pmf\n",
      "class Monty(Pmf):\n",
      "    def __init__(self, hypos):\n",
      "        Pmf.__init__(self)\n",
      "        for hypo in hypos:\n",
      "            self.Set(hypo, 1)\n",
      "        self.Normalize()\n",
      "    def Likelihood(self, data, hypo):\n",
      "        if hypo == data:\n",
      "            return 0\n",
      "        if hypo == 'A':\n",
      "            return 0.5\n",
      "        else:\n",
      "            return 1.0\n",
      "    def Update(self, data):\n",
      "        for hypo in self.Values():\n",
      "            like = self.Likelihood(data, hypo)\n",
      "            print \"Hypo %s Liklihood %s\" %(str(hypo), str(like))\n",
      "            self.Mult(hypo, like)\n",
      "        self.Normalize()\n",
      "hypos = 'ABC'\n",
      "m = Monty('ABC')\n",
      "data = 'B'\n",
      "m.Update(data)\n",
      "for hypo, prob in m.Items():\n",
      "    print hypo, prob\n"
     ],
     "language": "python",
     "metadata": {},
     "outputs": [
      {
       "output_type": "stream",
       "stream": "stdout",
       "text": [
        "Hypo A Liklihood 0.5\n",
        "Hypo C Liklihood 1.0\n",
        "Hypo B Liklihood 0\n",
        "A 0.333333333333\n",
        "C 0.666666666667\n",
        "B 0.0\n"
       ]
      }
     ],
     "prompt_number": 26
    },
    {
     "cell_type": "code",
     "collapsed": false,
     "input": [
      "# Identify the common parts \n",
      "class Suites(Pmf):\n",
      "    def __init__(self, hypos=tuple()):\n",
      "        Pmf.__init__(self)\n",
      "        for hypo in hypos:\n",
      "            self.Set(hypo, 1)\n",
      "        self.Normalize()\n",
      "    def Update(self, data):\n",
      "        for hypo in self.Values():\n",
      "            # P(H)*H(D|H)\n",
      "            like = self.Likelihood(data, hypo)\n",
      "            #print like\n",
      "            \n",
      "            self.Mult(hypo, like)\n",
      "            #print self.Items()\n",
      "        self.Normalize()\n",
      "    def Print(self):\n",
      "        for hypo, prob in self.Items():\n",
      "            print hypo, prob\n",
      "            \n",
      "class Monty1(Suites):\n",
      "    def Likelihood(self, data, hypo):\n",
      "        p#rint data\n",
      "        #print hypo\n",
      "        if data == hypo:\n",
      "            return 0.0\n",
      "        elif hypo == 'A':\n",
      "            return 0.5\n",
      "        else:\n",
      "            return 1.0\n",
      "m1 = Monty1('ABC')\n",
      "m1.Update('B')\n",
      "m1.Print()"
     ],
     "language": "python",
     "metadata": {},
     "outputs": [
      {
       "output_type": "stream",
       "stream": "stdout",
       "text": [
        "A 0.333333333333\n",
        "C 0.666666666667\n",
        "B 0.0\n"
       ]
      }
     ],
     "prompt_number": 61
    },
    {
     "cell_type": "code",
     "collapsed": false,
     "input": [],
     "language": "python",
     "metadata": {},
     "outputs": []
    }
   ],
   "metadata": {}
  }
 ]
}