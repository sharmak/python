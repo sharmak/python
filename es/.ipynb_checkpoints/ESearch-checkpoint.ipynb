{
 "metadata": {
  "name": "",
  "signature": "sha256:e7506d43efd0f4a89376ab70320fcc9b3c541b4364a785a17424223cfde653bf"
 },
 "nbformat": 3,
 "nbformat_minor": 0,
 "worksheets": [
  {
   "cells": [
    {
     "cell_type": "heading",
     "level": 1,
     "metadata": {},
     "source": [
      "Example of how to use elastic search in python."
     ]
    },
    {
     "cell_type": "heading",
     "level": 6,
     "metadata": {},
     "source": [
      "Install Elastic Search on Ubuntu using the steps mentioned in below link"
     ]
    },
    {
     "cell_type": "markdown",
     "metadata": {},
     "source": [
      "https://www.digitalocean.com/community/tutorials/how-to-install-elasticsearch-on-an-ubuntu-vps"
     ]
    },
    {
     "cell_type": "heading",
     "level": 6,
     "metadata": {},
     "source": [
      "Install Python API using PIP\n"
     ]
    },
    {
     "cell_type": "markdown",
     "metadata": {},
     "source": [
      "pip install elasticsearch"
     ]
    },
    {
     "cell_type": "code",
     "collapsed": false,
     "input": [
      "from elasticsearch import Elasticsearch\n",
      "from datetime import date"
     ],
     "language": "python",
     "metadata": {},
     "outputs": [],
     "prompt_number": 27
    },
    {
     "cell_type": "code",
     "collapsed": false,
     "input": [
      "es = Elasticsearch()"
     ],
     "language": "python",
     "metadata": {},
     "outputs": [],
     "prompt_number": 3
    },
    {
     "cell_type": "code",
     "collapsed": false,
     "input": [
      "es.index(\n",
      "    index=\"my_app\",\n",
      "    doc_type=\"blog_post\",\n",
      "    id=1,\n",
      "    body={\n",
      "        \"title\": \"Elasticsearch clients\",\n",
      "        \"content\": \"Interesting content...\",\n",
      "        \"date\": date(2013, 9, 24),\n",
      "    }\n",
      ")\n"
     ],
     "language": "python",
     "metadata": {},
     "outputs": [
      {
       "metadata": {},
       "output_type": "pyout",
       "prompt_number": 29,
       "text": [
        "{u'_id': u'1',\n",
        " u'_index': u'my_app',\n",
        " u'_type': u'blog_post',\n",
        " u'_version': 2,\n",
        " u'created': False}"
       ]
      }
     ],
     "prompt_number": 29
    },
    {
     "cell_type": "code",
     "collapsed": false,
     "input": [
      "es.get(index=\"my_app\", doc_type=\"blog_post\", id=1)"
     ],
     "language": "python",
     "metadata": {},
     "outputs": [
      {
       "metadata": {},
       "output_type": "pyout",
       "prompt_number": 30,
       "text": [
        "{u'_id': u'1',\n",
        " u'_index': u'my_app',\n",
        " u'_source': {u'content': u'Interesting content...',\n",
        "  u'date': u'2013-09-24',\n",
        "  u'title': u'Elasticsearch clients'},\n",
        " u'_type': u'blog_post',\n",
        " u'_version': 2,\n",
        " u'found': True}"
       ]
      }
     ],
     "prompt_number": 30
    },
    {
     "cell_type": "code",
     "collapsed": false,
     "input": [
      "es.search(index=\"my_app\", body={\"query\": {\"match\": {\"title\": \"elasticsearch\"}}})"
     ],
     "language": "python",
     "metadata": {},
     "outputs": [
      {
       "metadata": {},
       "output_type": "pyout",
       "prompt_number": 31,
       "text": [
        "{u'_shards': {u'failed': 0, u'successful': 5, u'total': 5},\n",
        " u'hits': {u'hits': [{u'_id': u'1',\n",
        "    u'_index': u'my_app',\n",
        "    u'_score': 0.19178301,\n",
        "    u'_source': {u'content': u'Interesting content...',\n",
        "     u'date': u'2013-09-24',\n",
        "     u'title': u'Elasticsearch clients'},\n",
        "    u'_type': u'blog_post'}],\n",
        "  u'max_score': 0.19178301,\n",
        "  u'total': 1},\n",
        " u'timed_out': False,\n",
        " u'took': 141}"
       ]
      }
     ],
     "prompt_number": 31
    }
   ],
   "metadata": {}
  }
 ]
}