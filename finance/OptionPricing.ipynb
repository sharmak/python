{
 "metadata": {
  "name": "",
  "signature": "sha256:79d5ffbeaba1e29fa839e1dfbcb996746a5f964a118c87ff300053d88d0b94c5"
 },
 "nbformat": 3,
 "nbformat_minor": 0,
 "worksheets": [
  {
   "cells": [
    {
     "cell_type": "code",
     "collapsed": false,
     "input": [
      "%matplotlib inline"
     ],
     "language": "python",
     "metadata": {},
     "outputs": [],
     "prompt_number": 2
    },
    {
     "cell_type": "code",
     "collapsed": false,
     "input": [
      "import scipy.stats as st\n",
      "import numpy as np\n",
      "def black_schole_call_price(S, K, r, vol, t, debug=0):\n",
      "    # S : Underlying price\n",
      "    # K : Strike price\n",
      "    # r : Annual rate of interest\n",
      "    # vol : Percentage annual volatility \n",
      "    # t   : Time to expire (annual)\n",
      "    d1 = ((np.log(S/K)) + ((r+ ((vol**2)/2))*t)) / (vol * np.sqrt(t))\n",
      "    d2 = d1 - (vol * np.sqrt(t))\n",
      "    if debug:\n",
      "        print(\"d1 = %f\" %d1)\n",
      "        print(\"d2 = %f\" %d2)\n",
      "    n_d1 = st.norm.cdf(d1)\n",
      "    n_d2 = st.norm.cdf(d2)\n",
      "    c_price = (S*n_d1) - (K * np.exp(-r*t) * n_d2)\n",
      "    return c_price\n",
      "\n",
      "# Option price\n",
      "print(black_schole_call_price(48.60, 50, 0.01, 0.20, 60.0/365.0))\n",
      "\n",
      "# Out of money call delta\n",
      "print(black_schole_call_price(5.60+1, 50, 0.01, 0.20, 60.0/365.0) - black_schole_call_price(5.60, 50, 0.01, 0.20, 60.0/365.0))\n",
      "\n",
      "# ATM call delta\n",
      "print(black_schole_call_price(49.5+1, 50, 0.01, 0.20, 60.0/365.0) - black_schole_call_price(49.5, 50, 0.01, 0.20, 60.0/365.0))\n",
      "\n",
      "# In the money call delta\n",
      "print(black_schole_call_price(80.5+1, 50, 0.01, 0.20, 60.0/365.0) - black_schole_call_price(80.5, 50, 0.01, 0.20, 60.0/365.0))\n",
      "\n",
      "\n",
      "# Compute vega\n",
      "print(black_schole_call_price(49.5, 50, 0.01, 0.21, 60.0/365.0) - black_schole_call_price(49.5, 50, 0.01, 0.20, 60.0/365.0))"
     ],
     "language": "python",
     "metadata": {},
     "outputs": [
      {
       "output_type": "stream",
       "stream": "stdout",
       "text": [
        "1.02002174418\n",
        "5.98603250696e-139\n",
        "0.52410454579\n",
        "0.99999999904\n",
        "0.0799230646978\n"
       ]
      }
     ],
     "prompt_number": 4
    },
    {
     "cell_type": "code",
     "collapsed": false,
     "input": [
      "# Find implied vol\n",
      "# from black schole equation, we can compute the price of option\n",
      "# and market also has a price of options\n",
      "# We can create following equation \n",
      "# BS_OP - Market_OP \n",
      "# we need find the root of this equation and solve for implied vol\n",
      "# note : you can also you newton raphson method \n",
      "\n",
      "def implied_vol(S, K, r,  t, MP, debug=0):\n",
      "    vol_lower = 0.01 # How to choose vol_lower and vol_upper smartly ?\n",
      "    vol_upper = 1.0\n",
      "    ITER = 100; TOL = 1e-3\n",
      "    def myfun(vol):\n",
      "        return black_schole_call_price(S, K, r, vol, t) - MP\n",
      "    vol_mid = (vol_lower + vol_upper) / 2\n",
      "    \n",
      "    if myfun(vol_lower)*myfun(vol_upper) > 0:\n",
      "        raise ValueError(\"Vols are chosen wrongly\")\n",
      "        \n",
      "    for i_ in xrange(ITER):\n",
      "        mid_fun_val = myfun(vol_mid)\n",
      "        bs_value = black_schole_call_price(S, K, r, vol_mid, t)\n",
      "        low_fun_val = myfun(vol_lower)\n",
      "        \n",
      "        upper_fun_val = myfun(vol_upper)\n",
      "        if abs(mid_fun_val) < TOL:\n",
      "            break\n",
      "        if mid_fun_val * low_fun_val < 0:\n",
      "            vol_upper = vol_mid\n",
      "        else:\n",
      "            vol_lower = vol_mid\n",
      "        vol_mid = (vol_upper + vol_lower) / 2\n",
      "       \n",
      "    return vol_mid\n",
      "        \n",
      "print(implied_vol(48.60, 50, 0.01, 60.0/365.0, 1.1, debug=1))"
     ],
     "language": "python",
     "metadata": {},
     "outputs": [
      {
       "output_type": "stream",
       "stream": "stdout",
       "text": [
        "0.210610351563\n"
       ]
      }
     ],
     "prompt_number": 8
    }
   ],
   "metadata": {}
  }
 ]
}