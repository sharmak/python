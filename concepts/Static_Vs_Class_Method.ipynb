{
 "metadata": {
  "name": "",
  "signature": "sha256:e9462927704f688d086a66c5682a1fb47e32c0e2697782e1bd25fec4600e1dc3"
 },
 "nbformat": 3,
 "nbformat_minor": 0,
 "worksheets": [
  {
   "cells": [
    {
     "cell_type": "code",
     "collapsed": false,
     "input": [
      "# Example of static variable on class level\n",
      "# Python allows you to access the variable using\n",
      "# both class obj and instance object\n",
      "class MyStatic(object):\n",
      "    i = 1\n",
      "    def __init__(self):\n",
      "        self.value = 500\n",
      "    @staticmethod\n",
      "    def incr():\n",
      "        MyStatic.i = MyStatic.i + 1\n",
      "        # This doesn't work as we don't have access to class object\n",
      "        #print MyStatic.value\n",
      "        print \"Updated Value of i=%s\" %str(MyStatic.i)\n",
      "m1 = MyStatic()\n",
      "print m1.incr       \n",
      "print MyStatic.incr \n",
      "m1.incr()\n",
      "MyStatic.incr()\n",
      "MyStatic.incr()\n",
      "MyStatic.incr()\n",
      "MyStatic.incr()\n"
     ],
     "language": "python",
     "metadata": {},
     "outputs": [
      {
       "output_type": "stream",
       "stream": "stdout",
       "text": [
        "<function incr at 0x7fc21418dc08>\n",
        "<function incr at 0x7fc21418dc08>\n"
       ]
      },
      {
       "ename": "AttributeError",
       "evalue": "type object 'MyStatic' has no attribute 'value'",
       "output_type": "pyerr",
       "traceback": [
        "\u001b[1;31m---------------------------------------------------------------------------\u001b[0m\n\u001b[1;31mAttributeError\u001b[0m                            Traceback (most recent call last)",
        "\u001b[1;32m<ipython-input-47-0954500b5e59>\u001b[0m in \u001b[0;36m<module>\u001b[1;34m()\u001b[0m\n\u001b[0;32m     14\u001b[0m \u001b[1;32mprint\u001b[0m \u001b[0mm1\u001b[0m\u001b[1;33m.\u001b[0m\u001b[0mincr\u001b[0m\u001b[1;33m\u001b[0m\u001b[0m\n\u001b[0;32m     15\u001b[0m \u001b[1;32mprint\u001b[0m \u001b[0mMyStatic\u001b[0m\u001b[1;33m.\u001b[0m\u001b[0mincr\u001b[0m\u001b[1;33m\u001b[0m\u001b[0m\n\u001b[1;32m---> 16\u001b[1;33m \u001b[0mm1\u001b[0m\u001b[1;33m.\u001b[0m\u001b[0mincr\u001b[0m\u001b[1;33m(\u001b[0m\u001b[1;33m)\u001b[0m\u001b[1;33m\u001b[0m\u001b[0m\n\u001b[0m\u001b[0;32m     17\u001b[0m \u001b[0mMyStatic\u001b[0m\u001b[1;33m.\u001b[0m\u001b[0mincr\u001b[0m\u001b[1;33m(\u001b[0m\u001b[1;33m)\u001b[0m\u001b[1;33m\u001b[0m\u001b[0m\n\u001b[0;32m     18\u001b[0m \u001b[0mMyStatic\u001b[0m\u001b[1;33m.\u001b[0m\u001b[0mincr\u001b[0m\u001b[1;33m(\u001b[0m\u001b[1;33m)\u001b[0m\u001b[1;33m\u001b[0m\u001b[0m\n",
        "\u001b[1;32m<ipython-input-47-0954500b5e59>\u001b[0m in \u001b[0;36mincr\u001b[1;34m()\u001b[0m\n\u001b[0;32m      9\u001b[0m     \u001b[1;32mdef\u001b[0m \u001b[0mincr\u001b[0m\u001b[1;33m(\u001b[0m\u001b[1;33m)\u001b[0m\u001b[1;33m:\u001b[0m\u001b[1;33m\u001b[0m\u001b[0m\n\u001b[0;32m     10\u001b[0m         \u001b[0mMyStatic\u001b[0m\u001b[1;33m.\u001b[0m\u001b[0mi\u001b[0m \u001b[1;33m=\u001b[0m \u001b[0mMyStatic\u001b[0m\u001b[1;33m.\u001b[0m\u001b[0mi\u001b[0m \u001b[1;33m+\u001b[0m \u001b[1;36m1\u001b[0m\u001b[1;33m\u001b[0m\u001b[0m\n\u001b[1;32m---> 11\u001b[1;33m         \u001b[1;32mprint\u001b[0m \u001b[0mMyStatic\u001b[0m\u001b[1;33m.\u001b[0m\u001b[0mvalue\u001b[0m\u001b[1;33m\u001b[0m\u001b[0m\n\u001b[0m\u001b[0;32m     12\u001b[0m         \u001b[1;32mprint\u001b[0m \u001b[1;34m\"Updated Value of i=%s\"\u001b[0m \u001b[1;33m%\u001b[0m\u001b[0mstr\u001b[0m\u001b[1;33m(\u001b[0m\u001b[0mMyStatic\u001b[0m\u001b[1;33m.\u001b[0m\u001b[0mi\u001b[0m\u001b[1;33m)\u001b[0m\u001b[1;33m\u001b[0m\u001b[0m\n\u001b[0;32m     13\u001b[0m \u001b[0mm1\u001b[0m \u001b[1;33m=\u001b[0m \u001b[0mMyStatic\u001b[0m\u001b[1;33m(\u001b[0m\u001b[1;33m)\u001b[0m\u001b[1;33m\u001b[0m\u001b[0m\n",
        "\u001b[1;31mAttributeError\u001b[0m: type object 'MyStatic' has no attribute 'value'"
       ]
      }
     ],
     "prompt_number": 47
    },
    {
     "cell_type": "code",
     "collapsed": false,
     "input": [
      "# Above example achived using class method\n",
      "# I think both static and class mehot\n",
      "class MyClass(object):\n",
      "    i = 1\n",
      "    def __init__(self):\n",
      "        self.value = 500\n",
      "    @classmethod\n",
      "    def incr(cls):\n",
      "        cls.i = cls.i + 1\n",
      "        # this will not work\n",
      "        #print cls.value\n",
      "        print \"Updated Value of i=%s\" %str(cls.i)\n",
      "m1 = MyClass()\n",
      "print m1.incr       \n",
      "print MyClass.incr \n",
      "m1.incr()\n",
      "MyClass.incr()\n",
      "m2 = MyClass()\n",
      "m2.incr()\n",
      "m1.incr()\n",
      "MyClass.incr()"
     ],
     "language": "python",
     "metadata": {},
     "outputs": [
      {
       "output_type": "stream",
       "stream": "stdout",
       "text": [
        "<bound method type.incr of <class '__main__.MyClass'>>\n",
        "<bound method type.incr of <class '__main__.MyClass'>>\n",
        "Updated Value of i=2\n",
        "Updated Value of i=3\n",
        "Updated Value of i=4\n",
        "Updated Value of i=5\n",
        "Updated Value of i=6\n"
       ]
      }
     ],
     "prompt_number": 49
    }
   ],
   "metadata": {}
  }
 ]
}