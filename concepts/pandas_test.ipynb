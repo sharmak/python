{
 "metadata": {
  "name": "",
  "signature": "sha256:7a4ed5eed37e933b4c2e904ac292b136477502e70a133c88d37d76e9ad595de5"
 },
 "nbformat": 3,
 "nbformat_minor": 0,
 "worksheets": [
  {
   "cells": [
    {
     "cell_type": "code",
     "collapsed": false,
     "input": [
      "import pandas as pd\n",
      "import numpy as np"
     ],
     "language": "python",
     "metadata": {},
     "outputs": [],
     "prompt_number": 8
    },
    {
     "cell_type": "code",
     "collapsed": false,
     "input": [
      "my_series = pd.Series([1,2,3])\n",
      "print(my_series)"
     ],
     "language": "python",
     "metadata": {},
     "outputs": [
      {
       "output_type": "stream",
       "stream": "stdout",
       "text": [
        "0    1\n",
        "1    2\n",
        "2    3\n",
        "dtype: int64\n"
       ]
      }
     ],
     "prompt_number": 5
    },
    {
     "cell_type": "code",
     "collapsed": false,
     "input": [
      "my_df = pd.DataFrame([1,2,3])\n",
      "print(my_df)"
     ],
     "language": "python",
     "metadata": {},
     "outputs": [
      {
       "output_type": "stream",
       "stream": "stdout",
       "text": [
        "   0\n",
        "0  1\n",
        "1  2\n",
        "2  3\n"
       ]
      }
     ],
     "prompt_number": 9
    },
    {
     "cell_type": "code",
     "collapsed": false,
     "input": [
      "data = np.arange(8).reshape(4,2)\n",
      "idx = pd.Index(data=['n', 'a', 'm', 'e'], name=\"test\")\n",
      "my_df = pd.DataFrame(data, index=idx, columns=['a', 'b'])\n",
      "my_df[['a']]\n",
      "print(my_df)\n",
      "my_df.loc[my_df['a'] == 0, 'b'] = 5000\n",
      "print(my_df)\n"
     ],
     "language": "python",
     "metadata": {},
     "outputs": [
      {
       "output_type": "stream",
       "stream": "stdout",
       "text": [
        "      a  b\n",
        "test      \n",
        "n     0  1\n",
        "a     2  3\n",
        "m     4  5\n",
        "e     6  7\n",
        "      a     b\n",
        "test         \n",
        "n     0  5000\n",
        "a     2     3\n",
        "m     4     5\n",
        "e     6     7\n"
       ]
      }
     ],
     "prompt_number": 46
    },
    {
     "cell_type": "code",
     "collapsed": false,
     "input": [
      "dim = (10, 3)\n",
      "my_df1 = pd.DataFrame(np.random.normal(0, 1, dim), columns=['one', 'two', 'three'])\n",
      "print(my_df1)"
     ],
     "language": "python",
     "metadata": {},
     "outputs": [
      {
       "output_type": "stream",
       "stream": "stdout",
       "text": [
        "        one       two     three\n",
        "0  1.433978  0.149778  2.269705\n",
        "1  0.848972  0.126120  0.622460\n",
        "2  0.693857 -1.896403  0.765684\n",
        "3  0.078137  0.464684  0.013197\n",
        "4  1.004031  0.078450  0.317177\n",
        "5 -0.147304 -1.128430 -1.179277\n",
        "6 -1.061388 -0.005320 -0.891491\n",
        "7 -1.540926 -0.939225 -0.422921\n",
        "8 -0.728792  0.569343 -0.288186\n",
        "9 -0.695097 -0.940225 -1.859837\n"
       ]
      }
     ],
     "prompt_number": 57
    },
    {
     "cell_type": "code",
     "collapsed": false,
     "input": [
      "my_df1['one'][:2]"
     ],
     "language": "python",
     "metadata": {},
     "outputs": [
      {
       "metadata": {},
       "output_type": "pyout",
       "prompt_number": 60,
       "text": [
        "0    1.433978\n",
        "1    0.848972\n",
        "Name: one, dtype: float64"
       ]
      }
     ],
     "prompt_number": 60
    },
    {
     "cell_type": "code",
     "collapsed": false,
     "input": [
      "my_df1[['one', 'two']][:2]"
     ],
     "language": "python",
     "metadata": {},
     "outputs": [
      {
       "html": [
        "<div style=\"max-height:1000px;max-width:1500px;overflow:auto;\">\n",
        "<table border=\"1\" class=\"dataframe\">\n",
        "  <thead>\n",
        "    <tr style=\"text-align: right;\">\n",
        "      <th></th>\n",
        "      <th>one</th>\n",
        "      <th>two</th>\n",
        "    </tr>\n",
        "  </thead>\n",
        "  <tbody>\n",
        "    <tr>\n",
        "      <th>0</th>\n",
        "      <td> 1.433978</td>\n",
        "      <td> 0.149778</td>\n",
        "    </tr>\n",
        "    <tr>\n",
        "      <th>1</th>\n",
        "      <td> 0.848972</td>\n",
        "      <td> 0.126120</td>\n",
        "    </tr>\n",
        "  </tbody>\n",
        "</table>\n",
        "</div>"
       ],
       "metadata": {},
       "output_type": "pyout",
       "prompt_number": 61,
       "text": [
        "        one       two\n",
        "0  1.433978  0.149778\n",
        "1  0.848972  0.126120"
       ]
      }
     ],
     "prompt_number": 61
    },
    {
     "cell_type": "code",
     "collapsed": false,
     "input": [
      "my_df1[['one', 'two']][-3:-1]"
     ],
     "language": "python",
     "metadata": {},
     "outputs": [
      {
       "html": [
        "<div style=\"max-height:1000px;max-width:1500px;overflow:auto;\">\n",
        "<table border=\"1\" class=\"dataframe\">\n",
        "  <thead>\n",
        "    <tr style=\"text-align: right;\">\n",
        "      <th></th>\n",
        "      <th>one</th>\n",
        "      <th>two</th>\n",
        "    </tr>\n",
        "  </thead>\n",
        "  <tbody>\n",
        "    <tr>\n",
        "      <th>7</th>\n",
        "      <td>-1.540926</td>\n",
        "      <td>-0.939225</td>\n",
        "    </tr>\n",
        "    <tr>\n",
        "      <th>8</th>\n",
        "      <td>-0.728792</td>\n",
        "      <td> 0.569343</td>\n",
        "    </tr>\n",
        "  </tbody>\n",
        "</table>\n",
        "</div>"
       ],
       "metadata": {},
       "output_type": "pyout",
       "prompt_number": 68,
       "text": [
        "        one       two\n",
        "7 -1.540926 -0.939225\n",
        "8 -0.728792  0.569343"
       ]
      }
     ],
     "prompt_number": 68
    },
    {
     "cell_type": "code",
     "collapsed": false,
     "input": [
      "my_df1[1:4:5]"
     ],
     "language": "python",
     "metadata": {},
     "outputs": [
      {
       "html": [
        "<div style=\"max-height:1000px;max-width:1500px;overflow:auto;\">\n",
        "<table border=\"1\" class=\"dataframe\">\n",
        "  <thead>\n",
        "    <tr style=\"text-align: right;\">\n",
        "      <th></th>\n",
        "      <th>one</th>\n",
        "      <th>two</th>\n",
        "      <th>three</th>\n",
        "    </tr>\n",
        "  </thead>\n",
        "  <tbody>\n",
        "    <tr>\n",
        "      <th>1</th>\n",
        "      <td> 0.848972</td>\n",
        "      <td> 0.12612</td>\n",
        "      <td> 0.62246</td>\n",
        "    </tr>\n",
        "  </tbody>\n",
        "</table>\n",
        "</div>"
       ],
       "metadata": {},
       "output_type": "pyout",
       "prompt_number": 72,
       "text": [
        "        one      two    three\n",
        "1  0.848972  0.12612  0.62246"
       ]
      }
     ],
     "prompt_number": 72
    },
    {
     "cell_type": "code",
     "collapsed": false,
     "input": [
      "df = pd.DataFrame({'cost':np.random.normal(100, 10, 100), 'profit':np.random.normal(50, 10, 100), \n",
      "                  'cata': np.random.choice(['a', 'b', 'c'], 100)})\n",
      "df.head()"
     ],
     "language": "python",
     "metadata": {},
     "outputs": [
      {
       "html": [
        "<div style=\"max-height:1000px;max-width:1500px;overflow:auto;\">\n",
        "<table border=\"1\" class=\"dataframe\">\n",
        "  <thead>\n",
        "    <tr style=\"text-align: right;\">\n",
        "      <th></th>\n",
        "      <th>cata</th>\n",
        "      <th>cost</th>\n",
        "      <th>profit</th>\n",
        "    </tr>\n",
        "  </thead>\n",
        "  <tbody>\n",
        "    <tr>\n",
        "      <th>0</th>\n",
        "      <td> c</td>\n",
        "      <td> 107.014698</td>\n",
        "      <td> 65.310443</td>\n",
        "    </tr>\n",
        "    <tr>\n",
        "      <th>1</th>\n",
        "      <td> b</td>\n",
        "      <td> 105.686185</td>\n",
        "      <td> 36.762072</td>\n",
        "    </tr>\n",
        "    <tr>\n",
        "      <th>2</th>\n",
        "      <td> b</td>\n",
        "      <td> 108.870582</td>\n",
        "      <td> 46.939147</td>\n",
        "    </tr>\n",
        "    <tr>\n",
        "      <th>3</th>\n",
        "      <td> c</td>\n",
        "      <td> 100.630796</td>\n",
        "      <td> 25.083524</td>\n",
        "    </tr>\n",
        "    <tr>\n",
        "      <th>4</th>\n",
        "      <td> a</td>\n",
        "      <td> 111.546939</td>\n",
        "      <td> 54.516656</td>\n",
        "    </tr>\n",
        "  </tbody>\n",
        "</table>\n",
        "</div>"
       ],
       "metadata": {},
       "output_type": "pyout",
       "prompt_number": 13,
       "text": [
        "  cata        cost     profit\n",
        "0    c  107.014698  65.310443\n",
        "1    b  105.686185  36.762072\n",
        "2    b  108.870582  46.939147\n",
        "3    c  100.630796  25.083524\n",
        "4    a  111.546939  54.516656"
       ]
      }
     ],
     "prompt_number": 13
    },
    {
     "cell_type": "code",
     "collapsed": false,
     "input": [
      "df.where(df.cata == 'a')\n",
      "mask = np.logical_and(df.cata == 'c', df.profit > 50)\n",
      "df[mask]"
     ],
     "language": "python",
     "metadata": {},
     "outputs": [
      {
       "html": [
        "<div style=\"max-height:1000px;max-width:1500px;overflow:auto;\">\n",
        "<table border=\"1\" class=\"dataframe\">\n",
        "  <thead>\n",
        "    <tr style=\"text-align: right;\">\n",
        "      <th></th>\n",
        "      <th>cata</th>\n",
        "      <th>cost</th>\n",
        "      <th>profit</th>\n",
        "    </tr>\n",
        "  </thead>\n",
        "  <tbody>\n",
        "    <tr>\n",
        "      <th>0 </th>\n",
        "      <td> c</td>\n",
        "      <td> 107.014698</td>\n",
        "      <td> 65.310443</td>\n",
        "    </tr>\n",
        "    <tr>\n",
        "      <th>13</th>\n",
        "      <td> c</td>\n",
        "      <td>  89.436356</td>\n",
        "      <td> 50.603787</td>\n",
        "    </tr>\n",
        "    <tr>\n",
        "      <th>14</th>\n",
        "      <td> c</td>\n",
        "      <td> 119.783483</td>\n",
        "      <td> 54.828799</td>\n",
        "    </tr>\n",
        "    <tr>\n",
        "      <th>19</th>\n",
        "      <td> c</td>\n",
        "      <td>  83.705044</td>\n",
        "      <td> 64.098823</td>\n",
        "    </tr>\n",
        "    <tr>\n",
        "      <th>20</th>\n",
        "      <td> c</td>\n",
        "      <td>  83.704721</td>\n",
        "      <td> 51.690841</td>\n",
        "    </tr>\n",
        "    <tr>\n",
        "      <th>22</th>\n",
        "      <td> c</td>\n",
        "      <td> 112.892407</td>\n",
        "      <td> 51.644462</td>\n",
        "    </tr>\n",
        "    <tr>\n",
        "      <th>31</th>\n",
        "      <td> c</td>\n",
        "      <td> 120.228782</td>\n",
        "      <td> 51.675006</td>\n",
        "    </tr>\n",
        "    <tr>\n",
        "      <th>49</th>\n",
        "      <td> c</td>\n",
        "      <td>  74.686033</td>\n",
        "      <td> 60.142647</td>\n",
        "    </tr>\n",
        "    <tr>\n",
        "      <th>61</th>\n",
        "      <td> c</td>\n",
        "      <td>  97.780510</td>\n",
        "      <td> 61.163538</td>\n",
        "    </tr>\n",
        "    <tr>\n",
        "      <th>71</th>\n",
        "      <td> c</td>\n",
        "      <td>  79.912914</td>\n",
        "      <td> 51.905996</td>\n",
        "    </tr>\n",
        "    <tr>\n",
        "      <th>78</th>\n",
        "      <td> c</td>\n",
        "      <td> 111.308044</td>\n",
        "      <td> 54.635084</td>\n",
        "    </tr>\n",
        "    <tr>\n",
        "      <th>81</th>\n",
        "      <td> c</td>\n",
        "      <td>  91.810998</td>\n",
        "      <td> 53.625843</td>\n",
        "    </tr>\n",
        "    <tr>\n",
        "      <th>87</th>\n",
        "      <td> c</td>\n",
        "      <td> 103.360978</td>\n",
        "      <td> 61.761714</td>\n",
        "    </tr>\n",
        "    <tr>\n",
        "      <th>88</th>\n",
        "      <td> c</td>\n",
        "      <td>  99.765257</td>\n",
        "      <td> 62.125182</td>\n",
        "    </tr>\n",
        "    <tr>\n",
        "      <th>97</th>\n",
        "      <td> c</td>\n",
        "      <td>  96.341890</td>\n",
        "      <td> 50.697270</td>\n",
        "    </tr>\n",
        "    <tr>\n",
        "      <th>99</th>\n",
        "      <td> c</td>\n",
        "      <td>  91.287393</td>\n",
        "      <td> 56.781153</td>\n",
        "    </tr>\n",
        "  </tbody>\n",
        "</table>\n",
        "</div>"
       ],
       "metadata": {},
       "output_type": "pyout",
       "prompt_number": 18,
       "text": [
        "   cata        cost     profit\n",
        "0     c  107.014698  65.310443\n",
        "13    c   89.436356  50.603787\n",
        "14    c  119.783483  54.828799\n",
        "19    c   83.705044  64.098823\n",
        "20    c   83.704721  51.690841\n",
        "22    c  112.892407  51.644462\n",
        "31    c  120.228782  51.675006\n",
        "49    c   74.686033  60.142647\n",
        "61    c   97.780510  61.163538\n",
        "71    c   79.912914  51.905996\n",
        "78    c  111.308044  54.635084\n",
        "81    c   91.810998  53.625843\n",
        "87    c  103.360978  61.761714\n",
        "88    c   99.765257  62.125182\n",
        "97    c   96.341890  50.697270\n",
        "99    c   91.287393  56.781153"
       ]
      }
     ],
     "prompt_number": 18
    },
    {
     "cell_type": "code",
     "collapsed": false,
     "input": [
      "y2k = pd.date_range('2000-01-01', '2000-12-31')\n",
      "y2k"
     ],
     "language": "python",
     "metadata": {},
     "outputs": [
      {
       "metadata": {},
       "output_type": "pyout",
       "prompt_number": 20,
       "text": [
        "<class 'pandas.tseries.index.DatetimeIndex'>\n",
        "[2000-01-01, ..., 2000-12-31]\n",
        "Length: 366, Freq: D, Timezone: None"
       ]
      }
     ],
     "prompt_number": 20
    },
    {
     "cell_type": "code",
     "collapsed": false,
     "input": [
      "df = pd.DataFrame({'value':np.random.normal(10, 5, len(y2k))}, index=y2k )"
     ],
     "language": "python",
     "metadata": {},
     "outputs": [],
     "prompt_number": 34
    },
    {
     "cell_type": "code",
     "collapsed": false,
     "input": [
      "df.head()"
     ],
     "language": "python",
     "metadata": {},
     "outputs": [
      {
       "html": [
        "<div style=\"max-height:1000px;max-width:1500px;overflow:auto;\">\n",
        "<table border=\"1\" class=\"dataframe\">\n",
        "  <thead>\n",
        "    <tr style=\"text-align: right;\">\n",
        "      <th></th>\n",
        "      <th>value</th>\n",
        "    </tr>\n",
        "  </thead>\n",
        "  <tbody>\n",
        "    <tr>\n",
        "      <th>2000-01-01</th>\n",
        "      <td> 12.271258</td>\n",
        "    </tr>\n",
        "    <tr>\n",
        "      <th>2000-01-02</th>\n",
        "      <td> 15.936661</td>\n",
        "    </tr>\n",
        "    <tr>\n",
        "      <th>2000-01-03</th>\n",
        "      <td> 12.065181</td>\n",
        "    </tr>\n",
        "    <tr>\n",
        "      <th>2000-01-04</th>\n",
        "      <td> 16.260587</td>\n",
        "    </tr>\n",
        "    <tr>\n",
        "      <th>2000-01-05</th>\n",
        "      <td> 18.537154</td>\n",
        "    </tr>\n",
        "  </tbody>\n",
        "</table>\n",
        "</div>"
       ],
       "metadata": {},
       "output_type": "pyout",
       "prompt_number": 35,
       "text": [
        "                value\n",
        "2000-01-01  12.271258\n",
        "2000-01-02  15.936661\n",
        "2000-01-03  12.065181\n",
        "2000-01-04  16.260587\n",
        "2000-01-05  18.537154"
       ]
      }
     ],
     "prompt_number": 35
    },
    {
     "cell_type": "code",
     "collapsed": false,
     "input": [
      "y2k_hourly = pd.date_range('2000-01-01', '2000-12-31', freq='H')"
     ],
     "language": "python",
     "metadata": {},
     "outputs": [],
     "prompt_number": 23
    },
    {
     "cell_type": "code",
     "collapsed": false,
     "input": [
      "df_h = pd.DataFrame({'value':np.random.normal(10,5,len(y2k_hourly))}, index=y2k_hourly)"
     ],
     "language": "python",
     "metadata": {},
     "outputs": [],
     "prompt_number": 30
    },
    {
     "cell_type": "code",
     "collapsed": false,
     "input": [
      "df_h.head()"
     ],
     "language": "python",
     "metadata": {},
     "outputs": [
      {
       "html": [
        "<div style=\"max-height:1000px;max-width:1500px;overflow:auto;\">\n",
        "<table border=\"1\" class=\"dataframe\">\n",
        "  <thead>\n",
        "    <tr style=\"text-align: right;\">\n",
        "      <th></th>\n",
        "      <th>value</th>\n",
        "    </tr>\n",
        "  </thead>\n",
        "  <tbody>\n",
        "    <tr>\n",
        "      <th>2000-01-01 00:00:00</th>\n",
        "      <td> 10.227336</td>\n",
        "    </tr>\n",
        "    <tr>\n",
        "      <th>2000-01-01 01:00:00</th>\n",
        "      <td>  6.328864</td>\n",
        "    </tr>\n",
        "    <tr>\n",
        "      <th>2000-01-01 02:00:00</th>\n",
        "      <td>  9.411600</td>\n",
        "    </tr>\n",
        "    <tr>\n",
        "      <th>2000-01-01 03:00:00</th>\n",
        "      <td> 11.374589</td>\n",
        "    </tr>\n",
        "    <tr>\n",
        "      <th>2000-01-01 04:00:00</th>\n",
        "      <td> 13.560628</td>\n",
        "    </tr>\n",
        "  </tbody>\n",
        "</table>\n",
        "</div>"
       ],
       "metadata": {},
       "output_type": "pyout",
       "prompt_number": 31,
       "text": [
        "                         value\n",
        "2000-01-01 00:00:00  10.227336\n",
        "2000-01-01 01:00:00   6.328864\n",
        "2000-01-01 02:00:00   9.411600\n",
        "2000-01-01 03:00:00  11.374589\n",
        "2000-01-01 04:00:00  13.560628"
       ]
      }
     ],
     "prompt_number": 31
    },
    {
     "cell_type": "code",
     "collapsed": false,
     "input": [
      "df_h.resample('M', how='sum')"
     ],
     "language": "python",
     "metadata": {},
     "outputs": [
      {
       "html": [
        "<div style=\"max-height:1000px;max-width:1500px;overflow:auto;\">\n",
        "<table border=\"1\" class=\"dataframe\">\n",
        "  <thead>\n",
        "    <tr style=\"text-align: right;\">\n",
        "      <th></th>\n",
        "      <th>value</th>\n",
        "    </tr>\n",
        "  </thead>\n",
        "  <tbody>\n",
        "    <tr>\n",
        "      <th>2000-01-31</th>\n",
        "      <td> 7414.607435</td>\n",
        "    </tr>\n",
        "    <tr>\n",
        "      <th>2000-02-29</th>\n",
        "      <td> 6973.260267</td>\n",
        "    </tr>\n",
        "    <tr>\n",
        "      <th>2000-03-31</th>\n",
        "      <td> 7347.624336</td>\n",
        "    </tr>\n",
        "    <tr>\n",
        "      <th>2000-04-30</th>\n",
        "      <td> 7425.587233</td>\n",
        "    </tr>\n",
        "    <tr>\n",
        "      <th>2000-05-31</th>\n",
        "      <td> 7235.731663</td>\n",
        "    </tr>\n",
        "    <tr>\n",
        "      <th>2000-06-30</th>\n",
        "      <td> 7185.716380</td>\n",
        "    </tr>\n",
        "    <tr>\n",
        "      <th>2000-07-31</th>\n",
        "      <td> 7293.436590</td>\n",
        "    </tr>\n",
        "    <tr>\n",
        "      <th>2000-08-31</th>\n",
        "      <td> 7369.307321</td>\n",
        "    </tr>\n",
        "    <tr>\n",
        "      <th>2000-09-30</th>\n",
        "      <td> 7282.119423</td>\n",
        "    </tr>\n",
        "    <tr>\n",
        "      <th>2000-10-31</th>\n",
        "      <td> 7519.893634</td>\n",
        "    </tr>\n",
        "    <tr>\n",
        "      <th>2000-11-30</th>\n",
        "      <td> 7117.128720</td>\n",
        "    </tr>\n",
        "    <tr>\n",
        "      <th>2000-12-31</th>\n",
        "      <td> 7285.446391</td>\n",
        "    </tr>\n",
        "  </tbody>\n",
        "</table>\n",
        "</div>"
       ],
       "metadata": {},
       "output_type": "pyout",
       "prompt_number": 32,
       "text": [
        "                  value\n",
        "2000-01-31  7414.607435\n",
        "2000-02-29  6973.260267\n",
        "2000-03-31  7347.624336\n",
        "2000-04-30  7425.587233\n",
        "2000-05-31  7235.731663\n",
        "2000-06-30  7185.716380\n",
        "2000-07-31  7293.436590\n",
        "2000-08-31  7369.307321\n",
        "2000-09-30  7282.119423\n",
        "2000-10-31  7519.893634\n",
        "2000-11-30  7117.128720\n",
        "2000-12-31  7285.446391"
       ]
      }
     ],
     "prompt_number": 32
    },
    {
     "cell_type": "code",
     "collapsed": false,
     "input": [
      "df.resample('H', fill_method='pad').head()"
     ],
     "language": "python",
     "metadata": {},
     "outputs": [
      {
       "html": [
        "<div style=\"max-height:1000px;max-width:1500px;overflow:auto;\">\n",
        "<table border=\"1\" class=\"dataframe\">\n",
        "  <thead>\n",
        "    <tr style=\"text-align: right;\">\n",
        "      <th></th>\n",
        "      <th>0</th>\n",
        "    </tr>\n",
        "  </thead>\n",
        "  <tbody>\n",
        "    <tr>\n",
        "      <th>2000-01-01 00:00:00</th>\n",
        "      <td> 4.176194</td>\n",
        "    </tr>\n",
        "    <tr>\n",
        "      <th>2000-01-01 01:00:00</th>\n",
        "      <td> 4.176194</td>\n",
        "    </tr>\n",
        "    <tr>\n",
        "      <th>2000-01-01 02:00:00</th>\n",
        "      <td> 4.176194</td>\n",
        "    </tr>\n",
        "    <tr>\n",
        "      <th>2000-01-01 03:00:00</th>\n",
        "      <td> 4.176194</td>\n",
        "    </tr>\n",
        "    <tr>\n",
        "      <th>2000-01-01 04:00:00</th>\n",
        "      <td> 4.176194</td>\n",
        "    </tr>\n",
        "  </tbody>\n",
        "</table>\n",
        "</div>"
       ],
       "metadata": {},
       "output_type": "pyout",
       "prompt_number": 33,
       "text": [
        "                            0\n",
        "2000-01-01 00:00:00  4.176194\n",
        "2000-01-01 01:00:00  4.176194\n",
        "2000-01-01 02:00:00  4.176194\n",
        "2000-01-01 03:00:00  4.176194\n",
        "2000-01-01 04:00:00  4.176194"
       ]
      }
     ],
     "prompt_number": 33
    },
    {
     "cell_type": "code",
     "collapsed": false,
     "input": [
      "data = { 'open': np.random.normal(10, 5, 100), 'close':np.random.normal(10,5,100)}"
     ],
     "language": "python",
     "metadata": {},
     "outputs": [],
     "prompt_number": 36
    },
    {
     "cell_type": "code",
     "collapsed": false,
     "input": [
      "df = pd.DataFrame(data)"
     ],
     "language": "python",
     "metadata": {},
     "outputs": [],
     "prompt_number": 37
    },
    {
     "cell_type": "code",
     "collapsed": false,
     "input": [
      "df.apply(sum, axis=1)"
     ],
     "language": "python",
     "metadata": {},
     "outputs": [
      {
       "metadata": {},
       "output_type": "pyout",
       "prompt_number": 38,
       "text": [
        "0      8.433279\n",
        "1     12.457541\n",
        "2     19.703633\n",
        "3     28.004258\n",
        "4     20.057979\n",
        "5     27.404032\n",
        "6     24.213785\n",
        "7     23.937789\n",
        "8     22.792730\n",
        "9     23.678072\n",
        "10    18.711380\n",
        "11    20.889904\n",
        "12    30.890186\n",
        "13    18.356411\n",
        "14    13.283172\n",
        "...\n",
        "85    24.980266\n",
        "86     3.519614\n",
        "87    26.472747\n",
        "88    32.589986\n",
        "89    14.537004\n",
        "90    14.201910\n",
        "91    38.677432\n",
        "92    22.277855\n",
        "93     7.647980\n",
        "94    33.746213\n",
        "95    21.289222\n",
        "96    21.951353\n",
        "97    17.979817\n",
        "98     8.012263\n",
        "99    18.546534\n",
        "Length: 100, dtype: float64"
       ]
      }
     ],
     "prompt_number": 38
    },
    {
     "cell_type": "code",
     "collapsed": false,
     "input": [
      "df.apply(np.sum, axis=0)"
     ],
     "language": "python",
     "metadata": {},
     "outputs": [
      {
       "metadata": {},
       "output_type": "pyout",
       "prompt_number": 39,
       "text": [
        "close    956.014103\n",
        "open     949.863998\n",
        "dtype: float64"
       ]
      }
     ],
     "prompt_number": 39
    },
    {
     "cell_type": "code",
     "collapsed": false,
     "input": [
      "df.apply(np.average,axis=0)"
     ],
     "language": "python",
     "metadata": {},
     "outputs": [
      {
       "metadata": {},
       "output_type": "pyout",
       "prompt_number": 40,
       "text": [
        "close    9.560141\n",
        "open     9.498640\n",
        "dtype: float64"
       ]
      }
     ],
     "prompt_number": 40
    },
    {
     "cell_type": "code",
     "collapsed": false,
     "input": [
      "df['diff'] = df.apply(lambda x:x['open']-x['close'], axis=1)"
     ],
     "language": "python",
     "metadata": {},
     "outputs": [],
     "prompt_number": 43
    },
    {
     "cell_type": "code",
     "collapsed": false,
     "input": [
      "df.head()"
     ],
     "language": "python",
     "metadata": {},
     "outputs": [
      {
       "html": [
        "<div style=\"max-height:1000px;max-width:1500px;overflow:auto;\">\n",
        "<table border=\"1\" class=\"dataframe\">\n",
        "  <thead>\n",
        "    <tr style=\"text-align: right;\">\n",
        "      <th></th>\n",
        "      <th>close</th>\n",
        "      <th>open</th>\n",
        "      <th>diff</th>\n",
        "    </tr>\n",
        "  </thead>\n",
        "  <tbody>\n",
        "    <tr>\n",
        "      <th>0</th>\n",
        "      <td>  5.536637</td>\n",
        "      <td>  2.896642</td>\n",
        "      <td>-2.639995</td>\n",
        "    </tr>\n",
        "    <tr>\n",
        "      <th>1</th>\n",
        "      <td>  9.026267</td>\n",
        "      <td>  3.431275</td>\n",
        "      <td>-5.594992</td>\n",
        "    </tr>\n",
        "    <tr>\n",
        "      <th>2</th>\n",
        "      <td> 12.259653</td>\n",
        "      <td>  7.443980</td>\n",
        "      <td>-4.815673</td>\n",
        "    </tr>\n",
        "    <tr>\n",
        "      <th>3</th>\n",
        "      <td> 12.069741</td>\n",
        "      <td> 15.934517</td>\n",
        "      <td> 3.864776</td>\n",
        "    </tr>\n",
        "    <tr>\n",
        "      <th>4</th>\n",
        "      <td> 13.131752</td>\n",
        "      <td>  6.926227</td>\n",
        "      <td>-6.205524</td>\n",
        "    </tr>\n",
        "  </tbody>\n",
        "</table>\n",
        "</div>"
       ],
       "metadata": {},
       "output_type": "pyout",
       "prompt_number": 44,
       "text": [
        "       close       open      diff\n",
        "0   5.536637   2.896642 -2.639995\n",
        "1   9.026267   3.431275 -5.594992\n",
        "2  12.259653   7.443980 -4.815673\n",
        "3  12.069741  15.934517  3.864776\n",
        "4  13.131752   6.926227 -6.205524"
       ]
      }
     ],
     "prompt_number": 44
    },
    {
     "cell_type": "code",
     "collapsed": false,
     "input": [
      "df['per_change'] = df.apply(lambda x:(x['close']-x['open'])/x['open'], axis=1)"
     ],
     "language": "python",
     "metadata": {},
     "outputs": [],
     "prompt_number": 45
    },
    {
     "cell_type": "code",
     "collapsed": false,
     "input": [
      "df.head()"
     ],
     "language": "python",
     "metadata": {},
     "outputs": [
      {
       "html": [
        "<div style=\"max-height:1000px;max-width:1500px;overflow:auto;\">\n",
        "<table border=\"1\" class=\"dataframe\">\n",
        "  <thead>\n",
        "    <tr style=\"text-align: right;\">\n",
        "      <th></th>\n",
        "      <th>close</th>\n",
        "      <th>open</th>\n",
        "      <th>diff</th>\n",
        "      <th>per_change</th>\n",
        "    </tr>\n",
        "  </thead>\n",
        "  <tbody>\n",
        "    <tr>\n",
        "      <th>0</th>\n",
        "      <td>  5.536637</td>\n",
        "      <td>  2.896642</td>\n",
        "      <td>-2.639995</td>\n",
        "      <td> 0.911399</td>\n",
        "    </tr>\n",
        "    <tr>\n",
        "      <th>1</th>\n",
        "      <td>  9.026267</td>\n",
        "      <td>  3.431275</td>\n",
        "      <td>-5.594992</td>\n",
        "      <td> 1.630587</td>\n",
        "    </tr>\n",
        "    <tr>\n",
        "      <th>2</th>\n",
        "      <td> 12.259653</td>\n",
        "      <td>  7.443980</td>\n",
        "      <td>-4.815673</td>\n",
        "      <td> 0.646922</td>\n",
        "    </tr>\n",
        "    <tr>\n",
        "      <th>3</th>\n",
        "      <td> 12.069741</td>\n",
        "      <td> 15.934517</td>\n",
        "      <td> 3.864776</td>\n",
        "      <td>-0.242541</td>\n",
        "    </tr>\n",
        "    <tr>\n",
        "      <th>4</th>\n",
        "      <td> 13.131752</td>\n",
        "      <td>  6.926227</td>\n",
        "      <td>-6.205524</td>\n",
        "      <td> 0.895946</td>\n",
        "    </tr>\n",
        "  </tbody>\n",
        "</table>\n",
        "</div>"
       ],
       "metadata": {},
       "output_type": "pyout",
       "prompt_number": 46,
       "text": [
        "       close       open      diff  per_change\n",
        "0   5.536637   2.896642 -2.639995    0.911399\n",
        "1   9.026267   3.431275 -5.594992    1.630587\n",
        "2  12.259653   7.443980 -4.815673    0.646922\n",
        "3  12.069741  15.934517  3.864776   -0.242541\n",
        "4  13.131752   6.926227 -6.205524    0.895946"
       ]
      }
     ],
     "prompt_number": 46
    },
    {
     "cell_type": "code",
     "collapsed": false,
     "input": [
      "rng = pd.date_range('2000-01-01', '2000-01-05')"
     ],
     "language": "python",
     "metadata": {},
     "outputs": [],
     "prompt_number": 48
    },
    {
     "cell_type": "code",
     "collapsed": false,
     "input": [
      "df1 = pd.DataFrame({'price':np.random.normal(10,5,5), 'ticker_id': [0]*5}, index=rng)"
     ],
     "language": "python",
     "metadata": {},
     "outputs": [],
     "prompt_number": 50
    },
    {
     "cell_type": "code",
     "collapsed": false,
     "input": [
      "df1.head()"
     ],
     "language": "python",
     "metadata": {},
     "outputs": [
      {
       "html": [
        "<div style=\"max-height:1000px;max-width:1500px;overflow:auto;\">\n",
        "<table border=\"1\" class=\"dataframe\">\n",
        "  <thead>\n",
        "    <tr style=\"text-align: right;\">\n",
        "      <th></th>\n",
        "      <th>price</th>\n",
        "      <th>ticker_id</th>\n",
        "    </tr>\n",
        "  </thead>\n",
        "  <tbody>\n",
        "    <tr>\n",
        "      <th>2000-01-01</th>\n",
        "      <td>  6.172530</td>\n",
        "      <td> 0</td>\n",
        "    </tr>\n",
        "    <tr>\n",
        "      <th>2000-01-02</th>\n",
        "      <td> -5.818295</td>\n",
        "      <td> 0</td>\n",
        "    </tr>\n",
        "    <tr>\n",
        "      <th>2000-01-03</th>\n",
        "      <td> 10.306339</td>\n",
        "      <td> 0</td>\n",
        "    </tr>\n",
        "    <tr>\n",
        "      <th>2000-01-04</th>\n",
        "      <td>  7.328356</td>\n",
        "      <td> 0</td>\n",
        "    </tr>\n",
        "    <tr>\n",
        "      <th>2000-01-05</th>\n",
        "      <td> 13.757910</td>\n",
        "      <td> 0</td>\n",
        "    </tr>\n",
        "  </tbody>\n",
        "</table>\n",
        "</div>"
       ],
       "metadata": {},
       "output_type": "pyout",
       "prompt_number": 51,
       "text": [
        "                price  ticker_id\n",
        "2000-01-01   6.172530          0\n",
        "2000-01-02  -5.818295          0\n",
        "2000-01-03  10.306339          0\n",
        "2000-01-04   7.328356          0\n",
        "2000-01-05  13.757910          0"
       ]
      }
     ],
     "prompt_number": 51
    },
    {
     "cell_type": "code",
     "collapsed": false,
     "input": [
      "df2 = pd.DataFrame({'price':np.random.normal(10, 5, 5), 'ticker_id':[1]*5}, index=rng)"
     ],
     "language": "python",
     "metadata": {},
     "outputs": [],
     "prompt_number": 52
    },
    {
     "cell_type": "code",
     "collapsed": false,
     "input": [
      "df.head()"
     ],
     "language": "python",
     "metadata": {},
     "outputs": [
      {
       "html": [
        "<div style=\"max-height:1000px;max-width:1500px;overflow:auto;\">\n",
        "<table border=\"1\" class=\"dataframe\">\n",
        "  <thead>\n",
        "    <tr style=\"text-align: right;\">\n",
        "      <th></th>\n",
        "      <th>close</th>\n",
        "      <th>open</th>\n",
        "      <th>diff</th>\n",
        "      <th>per_change</th>\n",
        "    </tr>\n",
        "  </thead>\n",
        "  <tbody>\n",
        "    <tr>\n",
        "      <th>0</th>\n",
        "      <td>  5.536637</td>\n",
        "      <td>  2.896642</td>\n",
        "      <td>-2.639995</td>\n",
        "      <td> 0.911399</td>\n",
        "    </tr>\n",
        "    <tr>\n",
        "      <th>1</th>\n",
        "      <td>  9.026267</td>\n",
        "      <td>  3.431275</td>\n",
        "      <td>-5.594992</td>\n",
        "      <td> 1.630587</td>\n",
        "    </tr>\n",
        "    <tr>\n",
        "      <th>2</th>\n",
        "      <td> 12.259653</td>\n",
        "      <td>  7.443980</td>\n",
        "      <td>-4.815673</td>\n",
        "      <td> 0.646922</td>\n",
        "    </tr>\n",
        "    <tr>\n",
        "      <th>3</th>\n",
        "      <td> 12.069741</td>\n",
        "      <td> 15.934517</td>\n",
        "      <td> 3.864776</td>\n",
        "      <td>-0.242541</td>\n",
        "    </tr>\n",
        "    <tr>\n",
        "      <th>4</th>\n",
        "      <td> 13.131752</td>\n",
        "      <td>  6.926227</td>\n",
        "      <td>-6.205524</td>\n",
        "      <td> 0.895946</td>\n",
        "    </tr>\n",
        "  </tbody>\n",
        "</table>\n",
        "</div>"
       ],
       "metadata": {},
       "output_type": "pyout",
       "prompt_number": 53,
       "text": [
        "       close       open      diff  per_change\n",
        "0   5.536637   2.896642 -2.639995    0.911399\n",
        "1   9.026267   3.431275 -5.594992    1.630587\n",
        "2  12.259653   7.443980 -4.815673    0.646922\n",
        "3  12.069741  15.934517  3.864776   -0.242541\n",
        "4  13.131752   6.926227 -6.205524    0.895946"
       ]
      }
     ],
     "prompt_number": 53
    },
    {
     "cell_type": "code",
     "collapsed": false,
     "input": [
      "pd.concat([df1,df2]).ix[[0,-1]]"
     ],
     "language": "python",
     "metadata": {},
     "outputs": [
      {
       "html": [
        "<div style=\"max-height:1000px;max-width:1500px;overflow:auto;\">\n",
        "<table border=\"1\" class=\"dataframe\">\n",
        "  <thead>\n",
        "    <tr style=\"text-align: right;\">\n",
        "      <th></th>\n",
        "      <th>price</th>\n",
        "      <th>ticker_id</th>\n",
        "    </tr>\n",
        "  </thead>\n",
        "  <tbody>\n",
        "    <tr>\n",
        "      <th>2000-01-01</th>\n",
        "      <td>  6.172530</td>\n",
        "      <td> 0</td>\n",
        "    </tr>\n",
        "    <tr>\n",
        "      <th>2000-01-05</th>\n",
        "      <td> 16.008688</td>\n",
        "      <td> 1</td>\n",
        "    </tr>\n",
        "  </tbody>\n",
        "</table>\n",
        "</div>"
       ],
       "metadata": {},
       "output_type": "pyout",
       "prompt_number": 55,
       "text": [
        "                price  ticker_id\n",
        "2000-01-01   6.172530          0\n",
        "2000-01-05  16.008688          1"
       ]
      }
     ],
     "prompt_number": 55
    },
    {
     "cell_type": "code",
     "collapsed": false,
     "input": [
      "pd.merge(df1, df2, left_index=True, right_index=True)"
     ],
     "language": "python",
     "metadata": {},
     "outputs": [
      {
       "html": [
        "<div style=\"max-height:1000px;max-width:1500px;overflow:auto;\">\n",
        "<table border=\"1\" class=\"dataframe\">\n",
        "  <thead>\n",
        "    <tr style=\"text-align: right;\">\n",
        "      <th></th>\n",
        "      <th>price_x</th>\n",
        "      <th>ticker_id_x</th>\n",
        "      <th>price_y</th>\n",
        "      <th>ticker_id_y</th>\n",
        "    </tr>\n",
        "  </thead>\n",
        "  <tbody>\n",
        "    <tr>\n",
        "      <th>2000-01-01</th>\n",
        "      <td>  6.172530</td>\n",
        "      <td> 0</td>\n",
        "      <td> 11.999373</td>\n",
        "      <td> 1</td>\n",
        "    </tr>\n",
        "    <tr>\n",
        "      <th>2000-01-02</th>\n",
        "      <td> -5.818295</td>\n",
        "      <td> 0</td>\n",
        "      <td>  2.777824</td>\n",
        "      <td> 1</td>\n",
        "    </tr>\n",
        "    <tr>\n",
        "      <th>2000-01-03</th>\n",
        "      <td> 10.306339</td>\n",
        "      <td> 0</td>\n",
        "      <td>  3.444119</td>\n",
        "      <td> 1</td>\n",
        "    </tr>\n",
        "    <tr>\n",
        "      <th>2000-01-04</th>\n",
        "      <td>  7.328356</td>\n",
        "      <td> 0</td>\n",
        "      <td> 11.095535</td>\n",
        "      <td> 1</td>\n",
        "    </tr>\n",
        "    <tr>\n",
        "      <th>2000-01-05</th>\n",
        "      <td> 13.757910</td>\n",
        "      <td> 0</td>\n",
        "      <td> 16.008688</td>\n",
        "      <td> 1</td>\n",
        "    </tr>\n",
        "  </tbody>\n",
        "</table>\n",
        "</div>"
       ],
       "metadata": {},
       "output_type": "pyout",
       "prompt_number": 56,
       "text": [
        "              price_x  ticker_id_x    price_y  ticker_id_y\n",
        "2000-01-01   6.172530            0  11.999373            1\n",
        "2000-01-02  -5.818295            0   2.777824            1\n",
        "2000-01-03  10.306339            0   3.444119            1\n",
        "2000-01-04   7.328356            0  11.095535            1\n",
        "2000-01-05  13.757910            0  16.008688            1"
       ]
      }
     ],
     "prompt_number": 56
    },
    {
     "cell_type": "code",
     "collapsed": false,
     "input": [
      "tickers = ['gs', 'ibm', 'f', 'ba', 'axp']"
     ],
     "language": "python",
     "metadata": {},
     "outputs": [],
     "prompt_number": 57
    },
    {
     "cell_type": "code",
     "collapsed": false,
     "input": [
      "from pandas.io.data import DataReader"
     ],
     "language": "python",
     "metadata": {},
     "outputs": [],
     "prompt_number": 62
    },
    {
     "cell_type": "code",
     "collapsed": false,
     "input": [
      "x = DataReader('gs', \"yahoo\",start='2006-01-01')\n",
      "x.head()"
     ],
     "language": "python",
     "metadata": {},
     "outputs": [
      {
       "html": [
        "<div style=\"max-height:1000px;max-width:1500px;overflow:auto;\">\n",
        "<table border=\"1\" class=\"dataframe\">\n",
        "  <thead>\n",
        "    <tr style=\"text-align: right;\">\n",
        "      <th></th>\n",
        "      <th>Open</th>\n",
        "      <th>High</th>\n",
        "      <th>Low</th>\n",
        "      <th>Close</th>\n",
        "      <th>Volume</th>\n",
        "      <th>Adj Close</th>\n",
        "    </tr>\n",
        "    <tr>\n",
        "      <th>Date</th>\n",
        "      <th></th>\n",
        "      <th></th>\n",
        "      <th></th>\n",
        "      <th></th>\n",
        "      <th></th>\n",
        "      <th></th>\n",
        "    </tr>\n",
        "  </thead>\n",
        "  <tbody>\n",
        "    <tr>\n",
        "      <th>2006-01-03</th>\n",
        "      <td> 126.70</td>\n",
        "      <td> 129.44</td>\n",
        "      <td> 124.23</td>\n",
        "      <td> 128.87</td>\n",
        "      <td> 6188700</td>\n",
        "      <td> 116.31</td>\n",
        "    </tr>\n",
        "    <tr>\n",
        "      <th>2006-01-04</th>\n",
        "      <td> 127.35</td>\n",
        "      <td> 128.91</td>\n",
        "      <td> 126.38</td>\n",
        "      <td> 127.09</td>\n",
        "      <td> 4861600</td>\n",
        "      <td> 114.71</td>\n",
        "    </tr>\n",
        "    <tr>\n",
        "      <th>2006-01-05</th>\n",
        "      <td> 126.00</td>\n",
        "      <td> 127.32</td>\n",
        "      <td> 125.61</td>\n",
        "      <td> 127.04</td>\n",
        "      <td> 3717400</td>\n",
        "      <td> 114.66</td>\n",
        "    </tr>\n",
        "    <tr>\n",
        "      <th>2006-01-06</th>\n",
        "      <td> 127.29</td>\n",
        "      <td> 129.25</td>\n",
        "      <td> 127.29</td>\n",
        "      <td> 128.84</td>\n",
        "      <td> 4319600</td>\n",
        "      <td> 116.29</td>\n",
        "    </tr>\n",
        "    <tr>\n",
        "      <th>2006-01-09</th>\n",
        "      <td> 128.50</td>\n",
        "      <td> 130.62</td>\n",
        "      <td> 128.00</td>\n",
        "      <td> 130.39</td>\n",
        "      <td> 4723500</td>\n",
        "      <td> 117.69</td>\n",
        "    </tr>\n",
        "  </tbody>\n",
        "</table>\n",
        "</div>"
       ],
       "metadata": {},
       "output_type": "pyout",
       "prompt_number": 67,
       "text": [
        "              Open    High     Low   Close   Volume  Adj Close\n",
        "Date                                                          \n",
        "2006-01-03  126.70  129.44  124.23  128.87  6188700     116.31\n",
        "2006-01-04  127.35  128.91  126.38  127.09  4861600     114.71\n",
        "2006-01-05  126.00  127.32  125.61  127.04  3717400     114.66\n",
        "2006-01-06  127.29  129.25  127.29  128.84  4319600     116.29\n",
        "2006-01-09  128.50  130.62  128.00  130.39  4723500     117.69"
       ]
      }
     ],
     "prompt_number": 67
    },
    {
     "cell_type": "code",
     "collapsed": false,
     "input": [
      "dfs = dict()\n",
      "for i in tickers:\n",
      "    dfs[i] = DataReader(i, \"yahoo\", start='2006-01-01')"
     ],
     "language": "python",
     "metadata": {},
     "outputs": [],
     "prompt_number": 68
    },
    {
     "cell_type": "code",
     "collapsed": false,
     "input": [
      "pan = pd.Panel(dfs)"
     ],
     "language": "python",
     "metadata": {},
     "outputs": [],
     "prompt_number": 69
    },
    {
     "cell_type": "code",
     "collapsed": false,
     "input": [
      "pan.minor_axis"
     ],
     "language": "python",
     "metadata": {},
     "outputs": [
      {
       "metadata": {},
       "output_type": "pyout",
       "prompt_number": 70,
       "text": [
        "Index([u'Open', u'High', u'Low', u'Close', u'Volume', u'Adj Close'], dtype='object')"
       ]
      }
     ],
     "prompt_number": 70
    },
    {
     "cell_type": "code",
     "collapsed": false,
     "input": [
      "pan.major_axis"
     ],
     "language": "python",
     "metadata": {},
     "outputs": [
      {
       "metadata": {},
       "output_type": "pyout",
       "prompt_number": 71,
       "text": [
        "<class 'pandas.tseries.index.DatetimeIndex'>\n",
        "[2006-01-03, ..., 2015-03-27]\n",
        "Length: 2324, Freq: None, Timezone: None"
       ]
      }
     ],
     "prompt_number": 71
    },
    {
     "cell_type": "code",
     "collapsed": false,
     "input": [
      "pan.items"
     ],
     "language": "python",
     "metadata": {},
     "outputs": [
      {
       "metadata": {},
       "output_type": "pyout",
       "prompt_number": 72,
       "text": [
        "Index([u'axp', u'ba', u'f', u'gs', u'ibm'], dtype='object')"
       ]
      }
     ],
     "prompt_number": 72
    },
    {
     "cell_type": "code",
     "collapsed": false,
     "input": [
      "pan.minor_xs('Open').mean()"
     ],
     "language": "python",
     "metadata": {},
     "outputs": [
      {
       "metadata": {},
       "output_type": "pyout",
       "prompt_number": 75,
       "text": [
        "axp     54.760856\n",
        "ba      82.370314\n",
        "f       10.706747\n",
        "gs     155.421175\n",
        "ibm    142.927767\n",
        "dtype: float64"
       ]
      }
     ],
     "prompt_number": 75
    },
    {
     "cell_type": "code",
     "collapsed": false,
     "input": [
      "cls = pan.minor_xs('Close')"
     ],
     "language": "python",
     "metadata": {},
     "outputs": [],
     "prompt_number": 76
    },
    {
     "cell_type": "code",
     "collapsed": false,
     "input": [
      "cls.plot()"
     ],
     "language": "python",
     "metadata": {},
     "outputs": [
      {
       "metadata": {},
       "output_type": "pyout",
       "prompt_number": 77,
       "text": [
        "<matplotlib.axes._subplots.AxesSubplot at 0x7faebbf0d2d0>"
       ]
      },
      {
       "metadata": {},
       "output_type": "display_data",
       "png": "[encoded data removed]",
       "text": [
        "<matplotlib.figure.Figure at 0x7faebbf0dc90>"
       ]
      }
     ],
     "prompt_number": 77
    },
    {
     "cell_type": "code",
     "collapsed": false,
     "input": [
      "type(cls)"
     ],
     "language": "python",
     "metadata": {},
     "outputs": [
      {
       "metadata": {},
       "output_type": "pyout",
       "prompt_number": 78,
       "text": [
        "pandas.core.frame.DataFrame"
       ]
      }
     ],
     "prompt_number": 78
    },
    {
     "cell_type": "code",
     "collapsed": false,
     "input": [
      "cls.head()"
     ],
     "language": "python",
     "metadata": {},
     "outputs": [
      {
       "html": [
        "<div style=\"max-height:1000px;max-width:1500px;overflow:auto;\">\n",
        "<table border=\"1\" class=\"dataframe\">\n",
        "  <thead>\n",
        "    <tr style=\"text-align: right;\">\n",
        "      <th></th>\n",
        "      <th>axp</th>\n",
        "      <th>ba</th>\n",
        "      <th>f</th>\n",
        "      <th>gs</th>\n",
        "      <th>ibm</th>\n",
        "    </tr>\n",
        "    <tr>\n",
        "      <th>Date</th>\n",
        "      <th></th>\n",
        "      <th></th>\n",
        "      <th></th>\n",
        "      <th></th>\n",
        "      <th></th>\n",
        "    </tr>\n",
        "  </thead>\n",
        "  <tbody>\n",
        "    <tr>\n",
        "      <th>2006-01-03</th>\n",
        "      <td> 52.58</td>\n",
        "      <td> 70.44</td>\n",
        "      <td> 7.83</td>\n",
        "      <td> 128.87</td>\n",
        "      <td> 82.06</td>\n",
        "    </tr>\n",
        "    <tr>\n",
        "      <th>2006-01-04</th>\n",
        "      <td> 51.95</td>\n",
        "      <td> 71.17</td>\n",
        "      <td> 8.01</td>\n",
        "      <td> 127.09</td>\n",
        "      <td> 81.95</td>\n",
        "    </tr>\n",
        "    <tr>\n",
        "      <th>2006-01-05</th>\n",
        "      <td> 52.50</td>\n",
        "      <td> 70.33</td>\n",
        "      <td> 8.35</td>\n",
        "      <td> 127.04</td>\n",
        "      <td> 82.50</td>\n",
        "    </tr>\n",
        "    <tr>\n",
        "      <th>2006-01-06</th>\n",
        "      <td> 52.68</td>\n",
        "      <td> 69.35</td>\n",
        "      <td> 8.52</td>\n",
        "      <td> 128.84</td>\n",
        "      <td> 84.95</td>\n",
        "    </tr>\n",
        "    <tr>\n",
        "      <th>2006-01-09</th>\n",
        "      <td> 53.99</td>\n",
        "      <td> 68.77</td>\n",
        "      <td> 8.62</td>\n",
        "      <td> 130.39</td>\n",
        "      <td> 83.73</td>\n",
        "    </tr>\n",
        "  </tbody>\n",
        "</table>\n",
        "</div>"
       ],
       "metadata": {},
       "output_type": "pyout",
       "prompt_number": 79,
       "text": [
        "              axp     ba     f      gs    ibm\n",
        "Date                                         \n",
        "2006-01-03  52.58  70.44  7.83  128.87  82.06\n",
        "2006-01-04  51.95  71.17  8.01  127.09  81.95\n",
        "2006-01-05  52.50  70.33  8.35  127.04  82.50\n",
        "2006-01-06  52.68  69.35  8.52  128.84  84.95\n",
        "2006-01-09  53.99  68.77  8.62  130.39  83.73"
       ]
      }
     ],
     "prompt_number": 79
    },
    {
     "cell_type": "code",
     "collapsed": false,
     "input": [],
     "language": "python",
     "metadata": {},
     "outputs": []
    }
   ],
   "metadata": {}
  }
 ]
}