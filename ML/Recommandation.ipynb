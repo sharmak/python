{
 "metadata": {
  "name": "",
  "signature": "sha256:ac020f23ef32c17407cffe6857257aed8e6b7cc252d7309067f828b640a159f2"
 },
 "nbformat": 3,
 "nbformat_minor": 0,
 "worksheets": [
  {
   "cells": [
    {
     "cell_type": "heading",
     "level": 2,
     "metadata": {},
     "source": [
      "Making Recommendations"
     ]
    },
    {
     "cell_type": "heading",
     "level": 3,
     "metadata": {},
     "source": [
      "Collecting Preference"
     ]
    },
    {
     "cell_type": "markdown",
     "metadata": {},
     "source": [
      "Simplest way is to store the preferences in a nested dictionary. The below dictionary shows the rating of movies by different critics on the scale of 1 to 5"
     ]
    },
    {
     "cell_type": "code",
     "collapsed": false,
     "input": [
      "from math import sqrt\n",
      "# A dictionary of movie critics and their ratings of a small\n",
      "# set of movies\n",
      "critics={'Lisa Rose': {'Lady in the Water': 2.5, 'Snakes on a Plane': 3.5,\n",
      "'Just My Luck': 3.0, 'Superman Returns': 3.5, 'You, Me and Dupree': 2.5,\n",
      "'The Night Listener': 3.0},\n",
      "'Gene Seymour': {'Lady in the Water': 3.0, 'Snakes on a Plane': 3.5,\n",
      "'Just My Luck': 1.5, 'Superman Returns': 5.0, 'The Night Listener': 3.0,\n",
      "'You, Me and Dupree': 3.5},\n",
      "'Michael Phillips': {'Lady in the Water': 2.5, 'Snakes on a Plane': 3.0,\n",
      "'Superman Returns': 3.5, 'The Night Listener': 4.0},\n",
      "'Claudia Puig': {'Snakes on a Plane': 3.5, 'Just My Luck': 3.0,\n",
      "'The Night Listener': 4.5, 'Superman Returns': 4.0,\n",
      "'You, Me and Dupree': 2.5},\n",
      "'Mick LaSalle': {'Lady in the Water': 3.0, 'Snakes on a Plane': 4.0,\n",
      "'Just My Luck': 2.0, 'Superman Returns': 3.0, 'The Night Listener': 3.0,\n",
      "'You, Me and Dupree': 2.0},\n",
      "'Jack Matthews': {'Lady in the Water': 3.0, 'Snakes on a Plane': 4.0,\n",
      "'The Night Listener': 3.0, 'Superman Returns': 5.0, 'You, Me and Dupree': 3.5},\n",
      "'Toby': {'Snakes on a Plane':4.5,'You, Me and Dupree':1.0,'Superman Returns':4.0}}"
     ],
     "language": "python",
     "metadata": {},
     "outputs": [],
     "prompt_number": 55
    },
    {
     "cell_type": "code",
     "collapsed": false,
     "input": [
      "critics['Lisa Rose']['Lady in the Water']"
     ],
     "language": "python",
     "metadata": {},
     "outputs": [
      {
       "metadata": {},
       "output_type": "pyout",
       "prompt_number": 6,
       "text": [
        "2.5"
       ]
      }
     ],
     "prompt_number": 6
    },
    {
     "cell_type": "heading",
     "level": 4,
     "metadata": {},
     "source": [
      "Finding Similar Users"
     ]
    },
    {
     "cell_type": "heading",
     "level": 5,
     "metadata": {},
     "source": [
      "Elucedian distance "
     ]
    },
    {
     "cell_type": "markdown",
     "metadata": {},
     "source": [
      "We create a preference space e.g. take two movies one of x-axis other on y-axis and then plot the rating given by each citric as values on scatter. Greater the difference between the two points, worse is the similarity result"
     ]
    },
    {
     "cell_type": "code",
     "collapsed": false,
     "input": [
      "critic1 = \"Mick LaSalle\"\n",
      "critic2 = \"Toby\"\n",
      "movie1 = \"Snakes on a Plane\"\n",
      "movie2 = 'You, Me and Dupree'\n",
      "point1 = (critics[critic1][movie1], critics[critic1][movie2])\n",
      "print point1\n",
      "point2 = (critics[critic2][movie1], critics[critic2][movie2])\n",
      "print point2\n",
      "def distance(p1, p2):\n",
      "    return sqrt(pow(p1[0]-p2[0], 2) + pow(p1[1]-p2[1], 2))\n",
      "print distance(point1, point2)\n",
      "# We need higher values for closer points as they are similar\n",
      "# To avoid divide by zero, we add 1\n",
      "def euclidean_distance(p1, p2):\n",
      "    return 1 / (1 + distance(p1, p2))\n",
      "print euclidean_distance(point1, point2)    "
     ],
     "language": "python",
     "metadata": {},
     "outputs": [
      {
       "output_type": "stream",
       "stream": "stdout",
       "text": [
        "(4.0, 2.0)\n",
        "(4.5, 1.0)\n",
        "1.11803398875\n",
        "0.472135955\n"
       ]
      }
     ],
     "prompt_number": 7
    },
    {
     "cell_type": "code",
     "collapsed": false,
     "input": [
      "def similarity(critic1, critic2):\n",
      "    common_movies = list()\n",
      "    for movie, rating in critics[critic1].iteritems():\n",
      "        if movie in critics[critic2].keys():\n",
      "            common_movies.append(movie)\n",
      "    #print common_movies\n",
      "    if len(common_movies) == 0:\n",
      "        return 0\n",
      "    total_rating_diff = 0\n",
      "    for movie in common_movies:\n",
      "        cr1_rating = critics[critic1][movie]\n",
      "        cr2_rating = critics[critic2][movie]\n",
      "        rating_diff = pow(cr1_rating- cr2_rating, 2)\n",
      "        total_rating_diff += rating_diff\n",
      "    return 1 / (1 + sqrt(total_rating_diff))\n",
      "print similarity(critic1, critic2)\n",
      "print similarity('Lisa Rose','Gene Seymour')"
     ],
     "language": "python",
     "metadata": {},
     "outputs": [
      {
       "output_type": "stream",
       "stream": "stdout",
       "text": [
        "0.4\n",
        "0.294298055086\n"
       ]
      }
     ],
     "prompt_number": 18
    },
    {
     "cell_type": "heading",
     "level": 5,
     "metadata": {},
     "source": [
      "Pearson Cofficent"
     ]
    },
    {
     "cell_type": "markdown",
     "metadata": {},
     "source": [
      "Pearson cofficent or correlation cofficent computes the correlation between the ratings given by two critics e.g. if two critics will give the same rating for all the movies and the best fit line would will look like a diagonal. One of the good things about pearson method is that it reduces grading effect e.g. if two critics are giving rating almost with same grade, the correlation coffients will still be one. "
     ]
    },
    {
     "cell_type": "code",
     "collapsed": false,
     "input": [
      "# correlation cofficent = cov(x, y) / sqrt(var(x)*var(y))\n",
      "import numpy as np\n",
      "from math import sqrt\n",
      "import scipy\n",
      "import scipy.stats\n",
      "def cov(x, y):\n",
      "    return (sum((x - np.mean(x)) * (y-np.mean(y)))) / (len(x))\n",
      "def var(x):\n",
      "    return sum(pow((x-np.mean(x)), 2)) / (len(x))\n",
      "def corrcoef(x, y):\n",
      "    return cov(x,y)/sqrt(var(x)*var(y))\n",
      "\n",
      "print scipy.stats.pearsonr([1,2,3], [4,8,6])[0] == corrcoef([1,2,3],[4,8,6])\n",
      "\n",
      "def pearson_similarity(critic1, critic2):\n",
      "    common_movies = list()\n",
      "    for movie, rating in critics[critic1].iteritems():\n",
      "        if movie in critics[critic2].keys():\n",
      "            common_movies.append(movie)\n",
      "    rating_1 = [ critics[critic1][movie] for movie in common_movies ]\n",
      "    rating_2 = [ critics[critic2][movie] for movie in common_movies ]\n",
      "    return corrcoef(rating_1, rating_2)\n",
      "print pearson_similarity('Lisa Rose','Gene Seymour')    "
     ],
     "language": "python",
     "metadata": {},
     "outputs": [
      {
       "output_type": "stream",
       "stream": "stdout",
       "text": [
        "True\n",
        "0.396059017191\n"
       ]
      }
     ],
     "prompt_number": 56
    }
   ],
   "metadata": {}
  }
 ]
}