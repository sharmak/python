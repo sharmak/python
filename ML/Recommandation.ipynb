{
 "metadata": {
  "name": "",
  "signature": "sha256:bbad4b551d16321dce87858bf36723d1d0635f669dd4a0d9186c0832f5768d1a"
 },
 "nbformat": 3,
 "nbformat_minor": 0,
 "worksheets": [
  {
   "cells": [
    {
     "cell_type": "heading",
     "level": 2,
     "metadata": {},
     "source": [
      "Making Recommendations"
     ]
    },
    {
     "cell_type": "heading",
     "level": 3,
     "metadata": {},
     "source": [
      "Collecting Preference"
     ]
    },
    {
     "cell_type": "markdown",
     "metadata": {},
     "source": [
      "Simplest way is to store the preferences in a nested dictionary. The below dictionary shows the rating of movies by different critics on the scale of 1 to 5"
     ]
    },
    {
     "cell_type": "code",
     "collapsed": false,
     "input": [
      "# A dictionary of movie critics and their ratings of a small\n",
      "# set of movies\n",
      "critics={'Lisa Rose': {'Lady in the Water': 2.5, 'Snakes on a Plane': 3.5,\n",
      "'Just My Luck': 3.0, 'Superman Returns': 3.5, 'You, Me and Dupree': 2.5,\n",
      "'The Night Listener': 3.0},\n",
      "'Gene Seymour': {'Lady in the Water': 3.0, 'Snakes on a Plane': 3.5,\n",
      "'Just My Luck': 1.5, 'Superman Returns': 5.0, 'The Night Listener': 3.0,\n",
      "'You, Me and Dupree': 3.5},\n",
      "'Michael Phillips': {'Lady in the Water': 2.5, 'Snakes on a Plane': 3.0,\n",
      "'Superman Returns': 3.5, 'The Night Listener': 4.0},\n",
      "'Claudia Puig': {'Snakes on a Plane': 3.5, 'Just My Luck': 3.0,\n",
      "'The Night Listener': 4.5, 'Superman Returns': 4.0,\n",
      "'You, Me and Dupree': 2.5},\n",
      "'Mick LaSalle': {'Lady in the Water': 3.0, 'Snakes on a Plane': 4.0,\n",
      "'Just My Luck': 2.0, 'Superman Returns': 3.0, 'The Night Listener': 3.0,\n",
      "'You, Me and Dupree': 2.0},\n",
      "'Jack Matthews': {'Lady in the Water': 3.0, 'Snakes on a Plane': 4.0,\n",
      "'The Night Listener': 3.0, 'Superman Returns': 5.0, 'You, Me and Dupree': 3.5},\n",
      "'Toby': {'Snakes on a Plane':4.5,'You, Me and Dupree':1.0,'Superman Returns':4.0}}"
     ],
     "language": "python",
     "metadata": {},
     "outputs": [],
     "prompt_number": 3
    },
    {
     "cell_type": "code",
     "collapsed": false,
     "input": [
      "critics['Lisa Rose']['Lady in the Water']"
     ],
     "language": "python",
     "metadata": {},
     "outputs": [
      {
       "metadata": {},
       "output_type": "pyout",
       "prompt_number": 4,
       "text": [
        "2.5"
       ]
      }
     ],
     "prompt_number": 4
    },
    {
     "cell_type": "heading",
     "level": 4,
     "metadata": {},
     "source": [
      "Finding Similar Users"
     ]
    },
    {
     "cell_type": "heading",
     "level": 5,
     "metadata": {},
     "source": [
      "Elucedian distance "
     ]
    },
    {
     "cell_type": "markdown",
     "metadata": {},
     "source": [
      "We create a preference space e.g. take two movies one of x-axis other on y-axis and then plot the rating given by each citric as values on scatter. Greater the difference between the two points, worse is the similarity result"
     ]
    },
    {
     "cell_type": "code",
     "collapsed": false,
     "input": [
      "# First movie - 'You, Me and Dupree'\n",
      "# Second movie - 'Snakes on a Plane'\n",
      "from collections import defaultdict\n",
      "movie_critic_rating = defaultdict(dict)\n",
      "first_movie = \"Snakes on a Plane\"\n",
      "second_movie = 'You, Me and Dupree'\n",
      "for critic, movie_rating in critics.iteritems():\n",
      "    first_movie_rating = 0\n",
      "    second_movie_rating = 0\n",
      "    try:\n",
      "        first_movie_rating = movie_rating[first_movie]\n",
      "    except:\n",
      "        pass\n",
      "    try:\n",
      "        second_movie_rating = movie_rating[second_movie]\n",
      "    except:\n",
      "        pass\n",
      "    movie_critic_rating[first_movie].update({critic:first_movie_rating})\n",
      "    movie_critic_rating[second_movie].update({critic:second_movie_rating})\n",
      "#print movie_critic_rating\n",
      "critic_dict = dict()\n",
      "\n",
      "# Create a dictionary of {'critic: point1}\n",
      "for critic in movie_critic_rating[first_movie].keys():\n",
      "    rat_movie_1 = movie_critic_rating[first_movie][critic]\n",
      "    rat_movie_2 = movie_critic_rating[second_movie][critic]\n",
      "    critic_dict[critic] = (rat_movie_1, rat_movie_2)\n",
      "#print critic_dict\n",
      "\n",
      "# Eluican distance\n",
      "point1 = critic_dict['Mick LaSalle']\n",
      "point2 = critic_dict['Toby']\n",
      "print point1\n",
      "print point2\n",
      "from math import sqrt\n",
      "distance = sqrt(pow(point2[0]-point1[0], 2) + pow(point1[1] - point1[1], 2))\n",
      "print 1/1+distance\n"
     ],
     "language": "python",
     "metadata": {},
     "outputs": [
      {
       "output_type": "stream",
       "stream": "stdout",
       "text": [
        "(4.0, 2.0)\n",
        "(4.5, 1.0)\n",
        "1.5\n"
       ]
      }
     ],
     "prompt_number": 48
    },
    {
     "cell_type": "code",
     "collapsed": false,
     "input": [
      "critic1 = \"Mick LaSalle\"\n",
      "critic2 = \"Toby\"\n",
      "movie1 = \"Snakes on a Plane\"\n",
      "movie2 = 'You, Me and Dupree'\n",
      "point1 = (critics[critic1][movie1], critics[critic1][movie2])\n",
      "print point1\n",
      "point2 = (critics[critic2][movie1], critics[critic2][movie2])\n",
      "print point2\n",
      "def distance(p1, p2):\n",
      "    return sqrt(pow(p1[0]-p2[0], 2) + pow(p1[1]-p2[1], 2))\n",
      "print distance(point1, point2)\n",
      "# We need higher values for closer points as they are similar\n",
      "# To avoid divide by zero, we add 1\n",
      "def euclidean_distance(p1, p2):\n",
      "    return 1 / (1 + distance(p1, p2))\n",
      "print euclidean_distance(point1, point2)    "
     ],
     "language": "python",
     "metadata": {},
     "outputs": [
      {
       "output_type": "stream",
       "stream": "stdout",
       "text": [
        "(4.0, 2.0)\n",
        "(4.5, 1.0)\n",
        "1.11803398875\n",
        "0.472135955\n"
       ]
      }
     ],
     "prompt_number": 56
    }
   ],
   "metadata": {}
  }
 ]
}